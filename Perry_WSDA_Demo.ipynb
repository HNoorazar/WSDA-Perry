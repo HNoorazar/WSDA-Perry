{
 "cells": [
  {
   "cell_type": "code",
   "execution_count": 1,
   "metadata": {
    "colab": {
     "base_uri": "https://localhost:8080/"
    },
    "id": "rNWduYF8ELxV",
    "outputId": "9bdfaaa7-7b02-401e-dd0f-4095d69f74c8"
   },
   "outputs": [
    {
     "name": "stdout",
     "output_type": "stream",
     "text": [
      "Collecting shutup\n",
      "  Downloading shutup-0.2.0-py3-none-any.whl (1.5 kB)\n",
      "Installing collected packages: shutup\n",
      "Successfully installed shutup-0.2.0\n"
     ]
    }
   ],
   "source": [
    "!pip install shutup\n",
    "import shutup\n",
    "shutup.please() # kill some of the messages"
   ]
  },
  {
   "cell_type": "code",
   "execution_count": 2,
   "metadata": {
    "id": "vpd1DlamoKpN"
   },
   "outputs": [],
   "source": [
    "import pickle"
   ]
  },
  {
   "cell_type": "markdown",
   "metadata": {
    "id": "1k8_CIo5DqvC"
   },
   "source": [
    "# Print Local Time\n",
    "\n",
    "colab runs on cloud. So, the time is not our local time.\n",
    "This page is useful to determine how to do this."
   ]
  },
  {
   "cell_type": "code",
   "execution_count": 3,
   "metadata": {
    "colab": {
     "base_uri": "https://localhost:8080/"
    },
    "id": "zxAcDFMxDwIm",
    "outputId": "6707570d-a33d-406b-f58b-91d517792c7e"
   },
   "outputs": [
    {
     "name": "stdout",
     "output_type": "stream",
     "text": [
      "Mon Aug  7 12:29:35 PM PDT 2023\n"
     ]
    }
   ],
   "source": [
    "!rm /etc/localtime\n",
    "!ln -s /usr/share/zoneinfo/US/Pacific /etc/localtime\n",
    "!date"
   ]
  },
  {
   "cell_type": "markdown",
   "metadata": {
    "id": "Nyg94VHsEK8B"
   },
   "source": [
    "# **geopandas and geemap must be installed every time!!!**\n"
   ]
  },
  {
   "cell_type": "code",
   "execution_count": 4,
   "metadata": {
    "colab": {
     "base_uri": "https://localhost:8080/"
    },
    "id": "F9b71mZbEZQj",
    "outputId": "852f555c-4544-4f19-b0c0-b8022fcb8b45"
   },
   "outputs": [
    {
     "name": "stdout",
     "output_type": "stream",
     "text": [
      "geemap not installed. Must be installed every tim to run this notebook. Installing ...\n",
      "geopandas not installed. Must be installed every time to run this notebook. Installing ...\n"
     ]
    }
   ],
   "source": [
    "# !pip install geopandas geemap\n",
    "# Installs geemap package\n",
    "import subprocess\n",
    "\n",
    "try:\n",
    "    import geemap\n",
    "except ImportError:\n",
    "    print('geemap not installed. Must be installed every tim to run this notebook. Installing ...')\n",
    "    subprocess.check_call([\"python\", '-m', 'pip', 'install', 'geemap'])\n",
    "\n",
    "    print('geopandas not installed. Must be installed every time to run this notebook. Installing ...')\n",
    "    subprocess.check_call([\"python\", '-m', 'pip', 'install', 'geopandas'])\n",
    "    subprocess.check_call([\"python\", '-m', 'pip', 'install', 'google.colab'])"
   ]
  },
  {
   "cell_type": "markdown",
   "metadata": {
    "id": "StQCEezUEajV"
   },
   "source": [
    "# **Authenticate and import libraries**\n",
    "\n",
    "We have to impor tthe libraries we need. Moreover, we need to Authenticate every single time!"
   ]
  },
  {
   "cell_type": "code",
   "execution_count": 5,
   "metadata": {
    "colab": {
     "base_uri": "https://localhost:8080/"
    },
    "id": "vWONKBNXEpCD",
    "outputId": "ff50e712-4234-4eb1-eaaf-9e459c86958e"
   },
   "outputs": [
    {
     "name": "stdout",
     "output_type": "stream",
     "text": [
      "To authorize access needed by Earth Engine, open the following URL in a web browser and follow the instructions. If the web browser does not start automatically, please manually browse the URL below.\n",
      "\n",
      "    https://code.earthengine.google.com/client-auth?scopes=https%3A//www.googleapis.com/auth/earthengine%20https%3A//www.googleapis.com/auth/devstorage.full_control&request_id=3JDtz5TWwnMSYBPMRMz2CW6H_h2ZTAUffz3E0CTapPQ&tc=ySrP10-nso-SIZR9YpDGtU9cVMxkrlhwo0JExX_A3wo&cc=vdeBS2FHCS3gHcgxiUmccAPEJ_DdF3hu0WOa67z08n0\n",
      "\n",
      "The authorization workflow will generate a code, which you should paste in the box below.\n",
      "Enter verification code: 4/1Adeu5BUDev6lQuNIIl0stdLNt6U6BThclsmRe8JYGiT7e6TUS19BcA1SOBs\n",
      "\n",
      "Successfully saved authorization token.\n"
     ]
    }
   ],
   "source": [
    "import pandas as pd\n",
    "import numpy as np\n",
    "import folium\n",
    "import geopandas as gpd\n",
    "import json, geemap, ee\n",
    "\n",
    "import scipy # we need this for savitzky-golay\n",
    "\n",
    "import matplotlib.pyplot as plt\n",
    "import matplotlib.dates as mdates\n",
    "import time, datetime\n",
    "from datetime import date\n",
    "\n",
    "\n",
    "try:\n",
    "    ee.Initialize()\n",
    "except Exception as e:\n",
    "    ee.Authenticate()\n",
    "    ee.Initialize()"
   ]
  },
  {
   "cell_type": "markdown",
   "metadata": {
    "id": "Magk2Zr_ExC1"
   },
   "source": [
    "### **Mount Google Drive and import my Python modules**\n",
    "\n",
    "Here we are importing the Python functions that are written by me and are needed; ```NASA core``` and ```NASA plot core```.\n",
    "\n",
    "**Note:** These are on Google Drive now. Perhaps we can import them from GitHub."
   ]
  },
  {
   "cell_type": "code",
   "execution_count": 6,
   "metadata": {
    "colab": {
     "base_uri": "https://localhost:8080/"
    },
    "id": "IxshCK3dE8lf",
    "outputId": "09ed1b7f-0593-480f-b885-c4f5e19754b3"
   },
   "outputs": [
    {
     "name": "stdout",
     "output_type": "stream",
     "text": [
      "Mounted at /content/drive\n"
     ]
    }
   ],
   "source": [
    "# Mount YOUR google drive in Colab\n",
    "from google.colab import drive\n",
    "drive.mount('/content/drive')\n",
    "import sys\n",
    "sys.path.insert(0,\"/content/drive/My Drive/Colab Notebooks/\")\n",
    "import NASA_core as nc\n",
    "import NASA_plot_core as ncp\n",
    "import GEE_Python_core as gpc\n",
    "\n",
    "# **Change Current directory to the Colab folder on Google Drive**\n",
    "import os\n",
    "os.chdir(\"/content/drive/My Drive/Colab Notebooks/\") # Colab Notebooks\n",
    "# !ls"
   ]
  },
  {
   "cell_type": "markdown",
   "metadata": {
    "id": "FIrLJ4-pFQEz"
   },
   "source": [
    "# Please tell me where to look for the shapefile!"
   ]
  },
  {
   "cell_type": "code",
   "execution_count": 7,
   "metadata": {
    "colab": {
     "base_uri": "https://localhost:8080/",
     "height": 130
    },
    "id": "juqgx2EpFUU1",
    "outputId": "2507825b-3e67-4953-d7a5-ef15c03445e9"
   },
   "outputs": [
    {
     "name": "stdout",
     "output_type": "stream",
     "text": [
      "(4, 7)\n"
     ]
    },
    {
     "data": {
      "text/html": [
       "\n",
       "\n",
       "  <div id=\"df-7605fccb-9ca3-4837-b79b-437872bc3e0c\">\n",
       "    <div class=\"colab-df-container\">\n",
       "      <div>\n",
       "<style scoped>\n",
       "    .dataframe tbody tr th:only-of-type {\n",
       "        vertical-align: middle;\n",
       "    }\n",
       "\n",
       "    .dataframe tbody tr th {\n",
       "        vertical-align: top;\n",
       "    }\n",
       "\n",
       "    .dataframe thead th {\n",
       "        text-align: right;\n",
       "    }\n",
       "</style>\n",
       "<table border=\"1\" class=\"dataframe\">\n",
       "  <thead>\n",
       "    <tr style=\"text-align: right;\">\n",
       "      <th></th>\n",
       "      <th>ID</th>\n",
       "      <th>geometry</th>\n",
       "    </tr>\n",
       "  </thead>\n",
       "  <tbody>\n",
       "    <tr>\n",
       "      <th>0</th>\n",
       "      <td>102309_WSDA_SF_2017</td>\n",
       "      <td>POLYGON ((-119.80155 46.99794, -119.80157 46.9...</td>\n",
       "    </tr>\n",
       "    <tr>\n",
       "      <th>1</th>\n",
       "      <td>102385_WSDA_SF_2017</td>\n",
       "      <td>POLYGON ((-119.37857 46.86940, -119.37919 46.8...</td>\n",
       "    </tr>\n",
       "  </tbody>\n",
       "</table>\n",
       "</div>\n",
       "      <button class=\"colab-df-convert\" onclick=\"convertToInteractive('df-7605fccb-9ca3-4837-b79b-437872bc3e0c')\"\n",
       "              title=\"Convert this dataframe to an interactive table.\"\n",
       "              style=\"display:none;\">\n",
       "\n",
       "  <svg xmlns=\"http://www.w3.org/2000/svg\" height=\"24px\"viewBox=\"0 0 24 24\"\n",
       "       width=\"24px\">\n",
       "    <path d=\"M0 0h24v24H0V0z\" fill=\"none\"/>\n",
       "    <path d=\"M18.56 5.44l.94 2.06.94-2.06 2.06-.94-2.06-.94-.94-2.06-.94 2.06-2.06.94zm-11 1L8.5 8.5l.94-2.06 2.06-.94-2.06-.94L8.5 2.5l-.94 2.06-2.06.94zm10 10l.94 2.06.94-2.06 2.06-.94-2.06-.94-.94-2.06-.94 2.06-2.06.94z\"/><path d=\"M17.41 7.96l-1.37-1.37c-.4-.4-.92-.59-1.43-.59-.52 0-1.04.2-1.43.59L10.3 9.45l-7.72 7.72c-.78.78-.78 2.05 0 2.83L4 21.41c.39.39.9.59 1.41.59.51 0 1.02-.2 1.41-.59l7.78-7.78 2.81-2.81c.8-.78.8-2.07 0-2.86zM5.41 20L4 18.59l7.72-7.72 1.47 1.35L5.41 20z\"/>\n",
       "  </svg>\n",
       "      </button>\n",
       "\n",
       "\n",
       "\n",
       "    <div id=\"df-369f3656-58d0-49f2-bbfb-978f960b59b1\">\n",
       "      <button class=\"colab-df-quickchart\" onclick=\"quickchart('df-369f3656-58d0-49f2-bbfb-978f960b59b1')\"\n",
       "              title=\"Suggest charts.\"\n",
       "              style=\"display:none;\">\n",
       "\n",
       "<svg xmlns=\"http://www.w3.org/2000/svg\" height=\"24px\"viewBox=\"0 0 24 24\"\n",
       "     width=\"24px\">\n",
       "    <g>\n",
       "        <path d=\"M19 3H5c-1.1 0-2 .9-2 2v14c0 1.1.9 2 2 2h14c1.1 0 2-.9 2-2V5c0-1.1-.9-2-2-2zM9 17H7v-7h2v7zm4 0h-2V7h2v10zm4 0h-2v-4h2v4z\"/>\n",
       "    </g>\n",
       "</svg>\n",
       "      </button>\n",
       "    </div>\n",
       "\n",
       "<style>\n",
       "  .colab-df-quickchart {\n",
       "    background-color: #E8F0FE;\n",
       "    border: none;\n",
       "    border-radius: 50%;\n",
       "    cursor: pointer;\n",
       "    display: none;\n",
       "    fill: #1967D2;\n",
       "    height: 32px;\n",
       "    padding: 0 0 0 0;\n",
       "    width: 32px;\n",
       "  }\n",
       "\n",
       "  .colab-df-quickchart:hover {\n",
       "    background-color: #E2EBFA;\n",
       "    box-shadow: 0px 1px 2px rgba(60, 64, 67, 0.3), 0px 1px 3px 1px rgba(60, 64, 67, 0.15);\n",
       "    fill: #174EA6;\n",
       "  }\n",
       "\n",
       "  [theme=dark] .colab-df-quickchart {\n",
       "    background-color: #3B4455;\n",
       "    fill: #D2E3FC;\n",
       "  }\n",
       "\n",
       "  [theme=dark] .colab-df-quickchart:hover {\n",
       "    background-color: #434B5C;\n",
       "    box-shadow: 0px 1px 3px 1px rgba(0, 0, 0, 0.15);\n",
       "    filter: drop-shadow(0px 1px 2px rgba(0, 0, 0, 0.3));\n",
       "    fill: #FFFFFF;\n",
       "  }\n",
       "</style>\n",
       "\n",
       "    <script>\n",
       "      async function quickchart(key) {\n",
       "        const containerElement = document.querySelector('#' + key);\n",
       "        const charts = await google.colab.kernel.invokeFunction(\n",
       "            'suggestCharts', [key], {});\n",
       "      }\n",
       "    </script>\n",
       "\n",
       "      <script>\n",
       "\n",
       "function displayQuickchartButton(domScope) {\n",
       "  let quickchartButtonEl =\n",
       "    domScope.querySelector('#df-369f3656-58d0-49f2-bbfb-978f960b59b1 button.colab-df-quickchart');\n",
       "  quickchartButtonEl.style.display =\n",
       "    google.colab.kernel.accessAllowed ? 'block' : 'none';\n",
       "}\n",
       "\n",
       "        displayQuickchartButton(document);\n",
       "      </script>\n",
       "      <style>\n",
       "    .colab-df-container {\n",
       "      display:flex;\n",
       "      flex-wrap:wrap;\n",
       "      gap: 12px;\n",
       "    }\n",
       "\n",
       "    .colab-df-convert {\n",
       "      background-color: #E8F0FE;\n",
       "      border: none;\n",
       "      border-radius: 50%;\n",
       "      cursor: pointer;\n",
       "      display: none;\n",
       "      fill: #1967D2;\n",
       "      height: 32px;\n",
       "      padding: 0 0 0 0;\n",
       "      width: 32px;\n",
       "    }\n",
       "\n",
       "    .colab-df-convert:hover {\n",
       "      background-color: #E2EBFA;\n",
       "      box-shadow: 0px 1px 2px rgba(60, 64, 67, 0.3), 0px 1px 3px 1px rgba(60, 64, 67, 0.15);\n",
       "      fill: #174EA6;\n",
       "    }\n",
       "\n",
       "    [theme=dark] .colab-df-convert {\n",
       "      background-color: #3B4455;\n",
       "      fill: #D2E3FC;\n",
       "    }\n",
       "\n",
       "    [theme=dark] .colab-df-convert:hover {\n",
       "      background-color: #434B5C;\n",
       "      box-shadow: 0px 1px 3px 1px rgba(0, 0, 0, 0.15);\n",
       "      filter: drop-shadow(0px 1px 2px rgba(0, 0, 0, 0.3));\n",
       "      fill: #FFFFFF;\n",
       "    }\n",
       "  </style>\n",
       "\n",
       "      <script>\n",
       "        const buttonEl =\n",
       "          document.querySelector('#df-7605fccb-9ca3-4837-b79b-437872bc3e0c button.colab-df-convert');\n",
       "        buttonEl.style.display =\n",
       "          google.colab.kernel.accessAllowed ? 'block' : 'none';\n",
       "\n",
       "        async function convertToInteractive(key) {\n",
       "          const element = document.querySelector('#df-7605fccb-9ca3-4837-b79b-437872bc3e0c');\n",
       "          const dataTable =\n",
       "            await google.colab.kernel.invokeFunction('convertToInteractive',\n",
       "                                                     [key], {});\n",
       "          if (!dataTable) return;\n",
       "\n",
       "          const docLinkHtml = 'Like what you see? Visit the ' +\n",
       "            '<a target=\"_blank\" href=https://colab.research.google.com/notebooks/data_table.ipynb>data table notebook</a>'\n",
       "            + ' to learn more about interactive tables.';\n",
       "          element.innerHTML = '';\n",
       "          dataTable['output_type'] = 'display_data';\n",
       "          await google.colab.output.renderOutput(dataTable, element);\n",
       "          const docLink = document.createElement('div');\n",
       "          docLink.innerHTML = docLinkHtml;\n",
       "          element.appendChild(docLink);\n",
       "        }\n",
       "      </script>\n",
       "    </div>\n",
       "  </div>\n"
      ],
      "text/plain": [
       "                    ID                                           geometry\n",
       "0  102309_WSDA_SF_2017  POLYGON ((-119.80155 46.99794, -119.80157 46.9...\n",
       "1  102385_WSDA_SF_2017  POLYGON ((-119.37857 46.86940, -119.37919 46.8..."
      ]
     },
     "execution_count": 7,
     "metadata": {},
     "output_type": "execute_result"
    }
   ],
   "source": [
    "# shp_path = \"/Users/hn/Documents/01_research_data/NASA/shapefiles/Grant2017/Grant2017.shp\"\n",
    "# shp_path = \"/content/My Drive/NASA_trends/shapefiles/Grant2017/Grant2017.shp\"\n",
    "shp_path = \"/content/drive/MyDrive/NASA_trends/shapefiles/Grant2017/Grant2017.shp\"\n",
    "shp_path = \"/content/drive/MyDrive/NASA_trends/shapefiles/\" + \\\n",
    "            \"Grant_4Fields_poly_wCentroids/Grant_4Fields_poly_wCentroids.shp\"\n",
    "\n",
    "# we read our shapefile in to a geopandas data frame using the geopandas.read_file method\n",
    "# we'll make sure it's initiated in the EPSG 4326 CRS\n",
    "SF = gpd.read_file(shp_path, crs='EPSG:4326')\n",
    "\n",
    "### for possible future use grab the data part of the shapefile\n",
    "SF_data = SF[[\"ID\", \"Acres\", \"county\", \"CropTyp\", \\\n",
    "              \"DataSrc\", \"Irrigtn\", \"LstSrvD\"]].copy()\n",
    "SF_data.drop_duplicates(inplace=True)\n",
    "print (SF_data.shape)\n",
    "\n",
    "\"\"\"\n",
    "   Drop extra useless columns. Saves space.**\n",
    "   Also, GEE behaves strangely. It has problem with Notes column before\n",
    "\"\"\"\n",
    "# SF = SF.drop(columns=[\"Notes\", \"TRS\", \"IntlSrD\", \"RtCrpTy\", \"Shp_Lng\", \"Shap_Ar\",\"CropGrp\",\"CropTyp\",\"Acres\",\"Irrigtn\",\"LstSrvD\",\"DataSrc\",\"county\",\"ExctAcr\",\"cntrd_ln\",\"cntrd_lt\"])\n",
    "SF = SF.drop(columns=[\"CropTyp\",\"Acres\",\"Irrigtn\",\n",
    "                      \"LstSrvD\",\"DataSrc\",\"county\",\"ExctAcr\",\n",
    "                      \"cntrd_ln\",\"cntrd_lt\"])\n",
    "\n",
    "SF.head(2)"
   ]
  },
  {
   "cell_type": "code",
   "execution_count": 8,
   "metadata": {
    "colab": {
     "base_uri": "https://localhost:8080/",
     "height": 183
    },
    "id": "EzT2oOS5Fi61",
    "outputId": "0e0348b4-dfd4-4f5f-8c13-1d045c66a8d0"
   },
   "outputs": [
    {
     "name": "stdout",
     "output_type": "stream",
     "text": [
      "<class 'geopandas.geodataframe.GeoDataFrame'>\n",
      "==============================================================================\n",
      "SF.shape=(4, 2)\n",
      "==============================================================================\n"
     ]
    },
    {
     "data": {
      "text/html": [
       "\n",
       "\n",
       "  <div id=\"df-c1bff6b3-8b6e-4f06-bb31-011ab5b0d22a\">\n",
       "    <div class=\"colab-df-container\">\n",
       "      <div>\n",
       "<style scoped>\n",
       "    .dataframe tbody tr th:only-of-type {\n",
       "        vertical-align: middle;\n",
       "    }\n",
       "\n",
       "    .dataframe tbody tr th {\n",
       "        vertical-align: top;\n",
       "    }\n",
       "\n",
       "    .dataframe thead th {\n",
       "        text-align: right;\n",
       "    }\n",
       "</style>\n",
       "<table border=\"1\" class=\"dataframe\">\n",
       "  <thead>\n",
       "    <tr style=\"text-align: right;\">\n",
       "      <th></th>\n",
       "      <th>ID</th>\n",
       "      <th>geometry</th>\n",
       "    </tr>\n",
       "  </thead>\n",
       "  <tbody>\n",
       "    <tr>\n",
       "      <th>0</th>\n",
       "      <td>102309_WSDA_SF_2017</td>\n",
       "      <td>POLYGON ((-119.80155 46.99794, -119.80157 46.9...</td>\n",
       "    </tr>\n",
       "    <tr>\n",
       "      <th>1</th>\n",
       "      <td>102385_WSDA_SF_2017</td>\n",
       "      <td>POLYGON ((-119.37857 46.86940, -119.37919 46.8...</td>\n",
       "    </tr>\n",
       "  </tbody>\n",
       "</table>\n",
       "</div>\n",
       "      <button class=\"colab-df-convert\" onclick=\"convertToInteractive('df-c1bff6b3-8b6e-4f06-bb31-011ab5b0d22a')\"\n",
       "              title=\"Convert this dataframe to an interactive table.\"\n",
       "              style=\"display:none;\">\n",
       "\n",
       "  <svg xmlns=\"http://www.w3.org/2000/svg\" height=\"24px\"viewBox=\"0 0 24 24\"\n",
       "       width=\"24px\">\n",
       "    <path d=\"M0 0h24v24H0V0z\" fill=\"none\"/>\n",
       "    <path d=\"M18.56 5.44l.94 2.06.94-2.06 2.06-.94-2.06-.94-.94-2.06-.94 2.06-2.06.94zm-11 1L8.5 8.5l.94-2.06 2.06-.94-2.06-.94L8.5 2.5l-.94 2.06-2.06.94zm10 10l.94 2.06.94-2.06 2.06-.94-2.06-.94-.94-2.06-.94 2.06-2.06.94z\"/><path d=\"M17.41 7.96l-1.37-1.37c-.4-.4-.92-.59-1.43-.59-.52 0-1.04.2-1.43.59L10.3 9.45l-7.72 7.72c-.78.78-.78 2.05 0 2.83L4 21.41c.39.39.9.59 1.41.59.51 0 1.02-.2 1.41-.59l7.78-7.78 2.81-2.81c.8-.78.8-2.07 0-2.86zM5.41 20L4 18.59l7.72-7.72 1.47 1.35L5.41 20z\"/>\n",
       "  </svg>\n",
       "      </button>\n",
       "\n",
       "\n",
       "\n",
       "    <div id=\"df-0cda76f8-d239-4970-bc66-2d03c3236e51\">\n",
       "      <button class=\"colab-df-quickchart\" onclick=\"quickchart('df-0cda76f8-d239-4970-bc66-2d03c3236e51')\"\n",
       "              title=\"Suggest charts.\"\n",
       "              style=\"display:none;\">\n",
       "\n",
       "<svg xmlns=\"http://www.w3.org/2000/svg\" height=\"24px\"viewBox=\"0 0 24 24\"\n",
       "     width=\"24px\">\n",
       "    <g>\n",
       "        <path d=\"M19 3H5c-1.1 0-2 .9-2 2v14c0 1.1.9 2 2 2h14c1.1 0 2-.9 2-2V5c0-1.1-.9-2-2-2zM9 17H7v-7h2v7zm4 0h-2V7h2v10zm4 0h-2v-4h2v4z\"/>\n",
       "    </g>\n",
       "</svg>\n",
       "      </button>\n",
       "    </div>\n",
       "\n",
       "<style>\n",
       "  .colab-df-quickchart {\n",
       "    background-color: #E8F0FE;\n",
       "    border: none;\n",
       "    border-radius: 50%;\n",
       "    cursor: pointer;\n",
       "    display: none;\n",
       "    fill: #1967D2;\n",
       "    height: 32px;\n",
       "    padding: 0 0 0 0;\n",
       "    width: 32px;\n",
       "  }\n",
       "\n",
       "  .colab-df-quickchart:hover {\n",
       "    background-color: #E2EBFA;\n",
       "    box-shadow: 0px 1px 2px rgba(60, 64, 67, 0.3), 0px 1px 3px 1px rgba(60, 64, 67, 0.15);\n",
       "    fill: #174EA6;\n",
       "  }\n",
       "\n",
       "  [theme=dark] .colab-df-quickchart {\n",
       "    background-color: #3B4455;\n",
       "    fill: #D2E3FC;\n",
       "  }\n",
       "\n",
       "  [theme=dark] .colab-df-quickchart:hover {\n",
       "    background-color: #434B5C;\n",
       "    box-shadow: 0px 1px 3px 1px rgba(0, 0, 0, 0.15);\n",
       "    filter: drop-shadow(0px 1px 2px rgba(0, 0, 0, 0.3));\n",
       "    fill: #FFFFFF;\n",
       "  }\n",
       "</style>\n",
       "\n",
       "    <script>\n",
       "      async function quickchart(key) {\n",
       "        const containerElement = document.querySelector('#' + key);\n",
       "        const charts = await google.colab.kernel.invokeFunction(\n",
       "            'suggestCharts', [key], {});\n",
       "      }\n",
       "    </script>\n",
       "\n",
       "      <script>\n",
       "\n",
       "function displayQuickchartButton(domScope) {\n",
       "  let quickchartButtonEl =\n",
       "    domScope.querySelector('#df-0cda76f8-d239-4970-bc66-2d03c3236e51 button.colab-df-quickchart');\n",
       "  quickchartButtonEl.style.display =\n",
       "    google.colab.kernel.accessAllowed ? 'block' : 'none';\n",
       "}\n",
       "\n",
       "        displayQuickchartButton(document);\n",
       "      </script>\n",
       "      <style>\n",
       "    .colab-df-container {\n",
       "      display:flex;\n",
       "      flex-wrap:wrap;\n",
       "      gap: 12px;\n",
       "    }\n",
       "\n",
       "    .colab-df-convert {\n",
       "      background-color: #E8F0FE;\n",
       "      border: none;\n",
       "      border-radius: 50%;\n",
       "      cursor: pointer;\n",
       "      display: none;\n",
       "      fill: #1967D2;\n",
       "      height: 32px;\n",
       "      padding: 0 0 0 0;\n",
       "      width: 32px;\n",
       "    }\n",
       "\n",
       "    .colab-df-convert:hover {\n",
       "      background-color: #E2EBFA;\n",
       "      box-shadow: 0px 1px 2px rgba(60, 64, 67, 0.3), 0px 1px 3px 1px rgba(60, 64, 67, 0.15);\n",
       "      fill: #174EA6;\n",
       "    }\n",
       "\n",
       "    [theme=dark] .colab-df-convert {\n",
       "      background-color: #3B4455;\n",
       "      fill: #D2E3FC;\n",
       "    }\n",
       "\n",
       "    [theme=dark] .colab-df-convert:hover {\n",
       "      background-color: #434B5C;\n",
       "      box-shadow: 0px 1px 3px 1px rgba(0, 0, 0, 0.15);\n",
       "      filter: drop-shadow(0px 1px 2px rgba(0, 0, 0, 0.3));\n",
       "      fill: #FFFFFF;\n",
       "    }\n",
       "  </style>\n",
       "\n",
       "      <script>\n",
       "        const buttonEl =\n",
       "          document.querySelector('#df-c1bff6b3-8b6e-4f06-bb31-011ab5b0d22a button.colab-df-convert');\n",
       "        buttonEl.style.display =\n",
       "          google.colab.kernel.accessAllowed ? 'block' : 'none';\n",
       "\n",
       "        async function convertToInteractive(key) {\n",
       "          const element = document.querySelector('#df-c1bff6b3-8b6e-4f06-bb31-011ab5b0d22a');\n",
       "          const dataTable =\n",
       "            await google.colab.kernel.invokeFunction('convertToInteractive',\n",
       "                                                     [key], {});\n",
       "          if (!dataTable) return;\n",
       "\n",
       "          const docLinkHtml = 'Like what you see? Visit the ' +\n",
       "            '<a target=\"_blank\" href=https://colab.research.google.com/notebooks/data_table.ipynb>data table notebook</a>'\n",
       "            + ' to learn more about interactive tables.';\n",
       "          element.innerHTML = '';\n",
       "          dataTable['output_type'] = 'display_data';\n",
       "          await google.colab.output.renderOutput(dataTable, element);\n",
       "          const docLink = document.createElement('div');\n",
       "          docLink.innerHTML = docLinkHtml;\n",
       "          element.appendChild(docLink);\n",
       "        }\n",
       "      </script>\n",
       "    </div>\n",
       "  </div>\n"
      ],
      "text/plain": [
       "                    ID                                           geometry\n",
       "0  102309_WSDA_SF_2017  POLYGON ((-119.80155 46.99794, -119.80157 46.9...\n",
       "1  102385_WSDA_SF_2017  POLYGON ((-119.37857 46.86940, -119.37919 46.8..."
      ]
     },
     "execution_count": 8,
     "metadata": {},
     "output_type": "execute_result"
    }
   ],
   "source": [
    "long_eq = \"==============================================================================\"\n",
    "print (type(SF))\n",
    "print (long_eq)\n",
    "print (f\"{SF.shape=}\", )\n",
    "print (long_eq)\n",
    "SF.head(2)"
   ]
  },
  {
   "cell_type": "code",
   "execution_count": 9,
   "metadata": {
    "id": "H18AR2kV9zSy"
   },
   "outputs": [],
   "source": [
    "IDs = list(SF_data.ID.unique())"
   ]
  },
  {
   "cell_type": "markdown",
   "metadata": {
    "id": "JVOsJFXkFoCH"
   },
   "source": [
    "# **Form Geographical Regions**\n",
    "\n",
    "  - First, define a big region that covers Eastern Washington.\n",
    "  - Convert shapefile to ```ee.featurecollection.FeatureCollection```.\n"
   ]
  },
  {
   "cell_type": "code",
   "execution_count": 10,
   "metadata": {
    "id": "Ihy6wVxAHe_A"
   },
   "outputs": [],
   "source": [
    "xmin = -125.0;\n",
    "ymin = 45.0;\n",
    "xmax = -116.0;\n",
    "ymax = 49.0;\n",
    "\n",
    "xmed = (xmin + xmax) / 2.0;\n",
    "ymed = (ymin+ymax) / 2.0;\n",
    "\n",
    "WA1 = ee.Geometry.Polygon([[xmin, ymin], [xmin, ymax], [xmed, ymax], [xmed, ymin], [xmin, ymin]]);\n",
    "WA2 = ee.Geometry.Polygon([[xmed, ymin], [xmed, ymax], [xmax, ymax], [xmax, ymin], [xmed, ymin]]);\n",
    "WA = [WA1,WA2];\n",
    "big_rectangle = ee.FeatureCollection(WA);\n",
    "SF = geemap.geopandas_to_ee(SF)"
   ]
  },
  {
   "cell_type": "markdown",
   "metadata": {
    "id": "MLucJYy7Hgrr"
   },
   "source": [
    "## **WARNING!**\n",
    "For some reason the function ```feature2ee(.)``` does not work ***when*** it is imported from ```core``` module. (However, it works when it is directly written here!!!) So, What the happens with the rest of functions, e.g. smoothing functions, we want to use here?"
   ]
  },
  {
   "cell_type": "code",
   "execution_count": 11,
   "metadata": {
    "id": "S3GBvrufIuZ8"
   },
   "outputs": [],
   "source": [
    "# was named \"banke\" in https://bikeshbade.com.np/tutorials/Detail/?title=Geo-pandas%20data%20frame%20to%20GEE%20feature%20collection%20using%20Python&code=13\n",
    "# Grant_4Fields_poly_wCentroids_EEFC_from_Func = feature2ee(shp_path)\n",
    "# Grant_4Fields_poly_wCentroids_EEFC_from_Func = gpc.feature2ee(shp_path)"
   ]
  },
  {
   "cell_type": "markdown",
   "metadata": {
    "id": "_WohFsaWI3_w"
   },
   "source": [
    "# Visualize the big region encompassing the Eastern Washington"
   ]
  },
  {
   "cell_type": "code",
   "execution_count": 12,
   "metadata": {
    "colab": {
     "base_uri": "https://localhost:8080/",
     "height": 621,
     "referenced_widgets": [
      "c7e70fcc940644ae9a47759abe0089fe",
      "90b9fb8106b64657ab2464d6ab05014d",
      "6f1ab865db6d442f93b84cf6d1bfdd22",
      "5d41b53701734f2e950139b5fb2aa084",
      "06ffecb2955849e7ad5490a3d2637d62",
      "a04687c0432a4a428f2ba69141ae63c2",
      "0ec2e960270d47a88293fa1d4d600241",
      "efae7ceb4d524c3cb385b1a910dd0512",
      "7376c9d45ab54ceba779b2878d31d2b0",
      "61d98ca7dc2f41789f8b6f07c9c09f9c",
      "3a84bfb94d2d470ea627459d062aeebc",
      "ddc3efa9b4ad47ef8569728a5779af6c",
      "4311bbb9d67b4d678bc0ad5cff32a0dc",
      "26c5e5e07f1d49aba73e495c78c81f3b",
      "bb09571b364c402aa1b5834e954d8fd2",
      "236be085373c48ba9bbbd9688c046104",
      "0c12b645b86349adad6f53bf63055a62",
      "600ac7ab6e3647e6991f854de0d927b0",
      "c3d1b143a3394f71b84f554015ea02fa",
      "1eeb5691b18e41dd8b4419269f53751a",
      "a53e2a5d9b624ae7b5947b5ba2e4937a",
      "bba0f1ebc08c4244857aa91f351a172b",
      "94476aae672944379a62d6bd4d2ce4b6",
      "8051a98f2f8c45efa912fe9dd39df7a9",
      "47c5038abab64a36b5db4c3cedd099b4",
      "4c0781f50960483fa31d9ee974f1430d",
      "eefe308b4a7441d2b53e743843f7bcaf",
      "add3205afb754a00a18e4428351c1e60"
     ]
    },
    "id": "n_VdDpeqI66Q",
    "outputId": "22cdd1df-0093-4b84-cd03-3bfca191699f"
   },
   "outputs": [
    {
     "data": {
      "application/vnd.jupyter.widget-view+json": {
       "model_id": "c7e70fcc940644ae9a47759abe0089fe",
       "version_major": 2,
       "version_minor": 0
      },
      "text/plain": [
       "Map(center=[47.0, -120.5], controls=(WidgetControl(options=['position', 'transparent_bg'], widget=HBox(childre…"
      ]
     },
     "metadata": {
      "application/vnd.jupyter.widget-view+json": {
       "colab": {
        "custom_widget_manager": {
         "url": "https://ssl.gstatic.com/colaboratory-static/widgets/colab-cdn-widget-manager/b3e629b1971e1542/manager.min.js"
        }
       }
      }
     },
     "output_type": "display_data"
    }
   ],
   "source": [
    "Map = geemap.Map(center=[ymed, xmed], zoom=7)\n",
    "Map.addLayer(WA1, {'color': 'red'}, 'Western Half')\n",
    "Map.addLayer(WA2, {'color': 'red'}, 'Eastern Half')\n",
    "Map.addLayer(SF, {'color': 'blue'}, 'Fields')\n",
    "Map"
   ]
  },
  {
   "cell_type": "markdown",
   "metadata": {
    "id": "OuKWgSEXJD7B"
   },
   "source": [
    "# Define Parameters"
   ]
  },
  {
   "cell_type": "code",
   "execution_count": 13,
   "metadata": {
    "id": "Og1nGEviJJ1_"
   },
   "outputs": [],
   "source": [
    "start_date = \"2017-01-01\" # Date fromat for EE YYYY-MM-DD\n",
    "end_date = \"2017-12-30\"   # Date fromat for EE YYYY-MM-DD\n",
    "cloud_perc = 70"
   ]
  },
  {
   "cell_type": "markdown",
   "metadata": {
    "id": "rqJXjNo1JWmR"
   },
   "source": [
    "## Fetch data from GEE"
   ]
  },
  {
   "cell_type": "code",
   "execution_count": 14,
   "metadata": {
    "colab": {
     "base_uri": "https://localhost:8080/"
    },
    "id": "4fOcXB4cJPcC",
    "outputId": "231c61f4-58a6-4198-88e6-d187cceebed2"
   },
   "outputs": [
    {
     "name": "stdout",
     "output_type": "stream",
     "text": [
      "The size of [imageC.size().getInfo()] is [2428].\n",
      "CPU times: user 1.24 s, sys: 93.4 ms, total: 1.34 s\n",
      "Wall time: 2min 8s\n"
     ]
    }
   ],
   "source": [
    "%%time\n",
    "imageC = gpc.extract_sentinel_IC(big_rectangle, start_date, end_date, cloud_perc);\n",
    "print (\"The size of [imageC.size().getInfo()] is [{:.0f}].\".format(imageC.size().getInfo()))\n",
    "\n",
    "reduced = gpc.mosaic_and_reduce_IC_mean(imageC, SF, start_date, end_date)\n",
    "\n",
    "needed_columns = [\"ID\", \"EVI\", 'NDVI', \"system_start_time\"]\n",
    "reduced = geemap.ee_to_pandas(reduced, selectors=needed_columns)\n",
    "reduced = reduced[needed_columns]"
   ]
  },
  {
   "cell_type": "markdown",
   "metadata": {
    "id": "3g13uBmAJaE1"
   },
   "source": [
    "# Export output to Google Drive only\n",
    "\n",
    "We advise you to do it. If Python/CoLab kernel dies, then,\n",
    "previous steps should not be repeated.\n"
   ]
  },
  {
   "cell_type": "code",
   "execution_count": 15,
   "metadata": {
    "colab": {
     "base_uri": "https://localhost:8080/"
    },
    "id": "JktTEw_-JfK4",
    "outputId": "575bbec3-dae4-4a64-a394-b270eb6226f1"
   },
   "outputs": [
    {
     "name": "stdout",
     "output_type": "stream",
     "text": [
      "CPU times: user 15.8 ms, sys: 12 µs, total: 15.8 ms\n",
      "Wall time: 299 ms\n"
     ]
    }
   ],
   "source": [
    "%%time\n",
    "export_raw_data = True\n",
    "\n",
    "# if export_raw_data==True:\n",
    "#     outfile_name = \"Grant_4Fields_poly_wCentroids_colab_output\"\n",
    "#     task = ee.batch.Export.table.toDrive(**{\n",
    "#                                         'collection': reduced,\n",
    "#                                         'description': outfile_name,\n",
    "#                                         'folder': \"colab_outputs\",\n",
    "#                                         'selectors':[\"ID\", \"Acres\", \"county\", \"CropTyp\", \"DataSrc\", \\\n",
    "#                                                      \"Irrigtn\", \"LstSrvD\", \"EVI\", 'NDVI', \"system_start_time\"],\n",
    "#                                         'fileFormat': 'CSV'})\n",
    "#     task.start()\n",
    "\n",
    "#     import time\n",
    "#     while task.active():\n",
    "#         print('Polling for task (id: {}). Still breathing'.format(task.id))\n",
    "#         time.sleep(59)\n",
    "\n",
    "\n",
    "if export_raw_data == True:\n",
    "    outfile_name = \"Perry_WSDA_Demo_\" + start_date + \"_\" + end_date + \".csv\"\n",
    "    reduced.to_csv('/content/drive/MyDrive/colab_outputs/'+ outfile_name)"
   ]
  },
  {
   "cell_type": "markdown",
   "metadata": {
    "id": "JWEL1ff9JzI-"
   },
   "source": [
    "# **Smooth the data**\n",
    "\n",
    "This is the end of Earh Engine Part. Below we start smoothing the data and carry on!\n",
    "\n",
    "First, all these steps can be done behind the scene. But doing them here, one at a time, has the advantage that if something goes wrong in the middle, then\n",
    "we do not lose the good stuff that was done earlier!\n",
    "For example, of one of the Python libraries/packages needs to be updated in the middle of the way\n",
    "we do not have to start doing everything from the beginning!\n",
    "<p>&nbsp;</p>\n",
    "\n",
    "Start with converting the type of ```reduced``` from ```ee.FeatureCollection``` to ```dataframe```.\n",
    "\n",
    "- For some reason when converting the ```ee.FeatureCollection``` to ```dataframe``` the function has a problem with the ```Notes``` column! So, I remove the unnecessary columns.\n",
    "\n",
    "**NA removal**\n",
    "\n",
    "Even though logically and intuitively all the bands should be either available or ```NA```, I have seen before that sometimes ```EVI``` is NA while ```NDVI``` is not. Therefore, I had to choose which VI we want to use so that we can clean the data properly. However, I did not see that here.  when I was testing this code for 4 fields.\n",
    "\n",
    "Another suprising observation was that the output of Colab had more data compared to its JS counterpart!!!\n",
    "\n",
    "# **Define the VI parameter we want to work with**"
   ]
  },
  {
   "cell_type": "code",
   "execution_count": 16,
   "metadata": {
    "id": "QzKOC2DJ5Ulh"
   },
   "outputs": [],
   "source": [
    "VI_idx = \"NDVI\""
   ]
  },
  {
   "cell_type": "code",
   "execution_count": 17,
   "metadata": {
    "id": "sSDOXhv0SKNb"
   },
   "outputs": [],
   "source": [
    "# reduced = reduced[reduced[\"system_start_time\"].notna()]\n",
    "reduced = reduced[reduced[VI_idx].notna()]\n",
    "reduced.reset_index(drop=True, inplace=True)"
   ]
  },
  {
   "cell_type": "code",
   "execution_count": 18,
   "metadata": {
    "colab": {
     "base_uri": "https://localhost:8080/",
     "height": 112
    },
    "id": "TrlVRbS8SPe-",
    "outputId": "535c9ef4-436e-47b1-8b10-96754e0e70d4"
   },
   "outputs": [
    {
     "data": {
      "text/html": [
       "\n",
       "\n",
       "  <div id=\"df-ddb7c1f5-eccd-40fb-975b-a8393462a89c\">\n",
       "    <div class=\"colab-df-container\">\n",
       "      <div>\n",
       "<style scoped>\n",
       "    .dataframe tbody tr th:only-of-type {\n",
       "        vertical-align: middle;\n",
       "    }\n",
       "\n",
       "    .dataframe tbody tr th {\n",
       "        vertical-align: top;\n",
       "    }\n",
       "\n",
       "    .dataframe thead th {\n",
       "        text-align: right;\n",
       "    }\n",
       "</style>\n",
       "<table border=\"1\" class=\"dataframe\">\n",
       "  <thead>\n",
       "    <tr style=\"text-align: right;\">\n",
       "      <th></th>\n",
       "      <th>ID</th>\n",
       "      <th>EVI</th>\n",
       "      <th>NDVI</th>\n",
       "      <th>system_start_time</th>\n",
       "      <th>human_system_start_time</th>\n",
       "    </tr>\n",
       "  </thead>\n",
       "  <tbody>\n",
       "    <tr>\n",
       "      <th>0</th>\n",
       "      <td>102309_WSDA_SF_2017</td>\n",
       "      <td>-0.078609</td>\n",
       "      <td>-0.010085</td>\n",
       "      <td>1.483471e+09</td>\n",
       "      <td>2017-01-03</td>\n",
       "    </tr>\n",
       "    <tr>\n",
       "      <th>1</th>\n",
       "      <td>102385_WSDA_SF_2017</td>\n",
       "      <td>0.126676</td>\n",
       "      <td>0.048970</td>\n",
       "      <td>1.483471e+09</td>\n",
       "      <td>2017-01-03</td>\n",
       "    </tr>\n",
       "  </tbody>\n",
       "</table>\n",
       "</div>\n",
       "      <button class=\"colab-df-convert\" onclick=\"convertToInteractive('df-ddb7c1f5-eccd-40fb-975b-a8393462a89c')\"\n",
       "              title=\"Convert this dataframe to an interactive table.\"\n",
       "              style=\"display:none;\">\n",
       "\n",
       "  <svg xmlns=\"http://www.w3.org/2000/svg\" height=\"24px\"viewBox=\"0 0 24 24\"\n",
       "       width=\"24px\">\n",
       "    <path d=\"M0 0h24v24H0V0z\" fill=\"none\"/>\n",
       "    <path d=\"M18.56 5.44l.94 2.06.94-2.06 2.06-.94-2.06-.94-.94-2.06-.94 2.06-2.06.94zm-11 1L8.5 8.5l.94-2.06 2.06-.94-2.06-.94L8.5 2.5l-.94 2.06-2.06.94zm10 10l.94 2.06.94-2.06 2.06-.94-2.06-.94-.94-2.06-.94 2.06-2.06.94z\"/><path d=\"M17.41 7.96l-1.37-1.37c-.4-.4-.92-.59-1.43-.59-.52 0-1.04.2-1.43.59L10.3 9.45l-7.72 7.72c-.78.78-.78 2.05 0 2.83L4 21.41c.39.39.9.59 1.41.59.51 0 1.02-.2 1.41-.59l7.78-7.78 2.81-2.81c.8-.78.8-2.07 0-2.86zM5.41 20L4 18.59l7.72-7.72 1.47 1.35L5.41 20z\"/>\n",
       "  </svg>\n",
       "      </button>\n",
       "\n",
       "\n",
       "\n",
       "    <div id=\"df-9c831ef9-5f27-4fda-9c09-83a3879e08a4\">\n",
       "      <button class=\"colab-df-quickchart\" onclick=\"quickchart('df-9c831ef9-5f27-4fda-9c09-83a3879e08a4')\"\n",
       "              title=\"Suggest charts.\"\n",
       "              style=\"display:none;\">\n",
       "\n",
       "<svg xmlns=\"http://www.w3.org/2000/svg\" height=\"24px\"viewBox=\"0 0 24 24\"\n",
       "     width=\"24px\">\n",
       "    <g>\n",
       "        <path d=\"M19 3H5c-1.1 0-2 .9-2 2v14c0 1.1.9 2 2 2h14c1.1 0 2-.9 2-2V5c0-1.1-.9-2-2-2zM9 17H7v-7h2v7zm4 0h-2V7h2v10zm4 0h-2v-4h2v4z\"/>\n",
       "    </g>\n",
       "</svg>\n",
       "      </button>\n",
       "    </div>\n",
       "\n",
       "<style>\n",
       "  .colab-df-quickchart {\n",
       "    background-color: #E8F0FE;\n",
       "    border: none;\n",
       "    border-radius: 50%;\n",
       "    cursor: pointer;\n",
       "    display: none;\n",
       "    fill: #1967D2;\n",
       "    height: 32px;\n",
       "    padding: 0 0 0 0;\n",
       "    width: 32px;\n",
       "  }\n",
       "\n",
       "  .colab-df-quickchart:hover {\n",
       "    background-color: #E2EBFA;\n",
       "    box-shadow: 0px 1px 2px rgba(60, 64, 67, 0.3), 0px 1px 3px 1px rgba(60, 64, 67, 0.15);\n",
       "    fill: #174EA6;\n",
       "  }\n",
       "\n",
       "  [theme=dark] .colab-df-quickchart {\n",
       "    background-color: #3B4455;\n",
       "    fill: #D2E3FC;\n",
       "  }\n",
       "\n",
       "  [theme=dark] .colab-df-quickchart:hover {\n",
       "    background-color: #434B5C;\n",
       "    box-shadow: 0px 1px 3px 1px rgba(0, 0, 0, 0.15);\n",
       "    filter: drop-shadow(0px 1px 2px rgba(0, 0, 0, 0.3));\n",
       "    fill: #FFFFFF;\n",
       "  }\n",
       "</style>\n",
       "\n",
       "    <script>\n",
       "      async function quickchart(key) {\n",
       "        const containerElement = document.querySelector('#' + key);\n",
       "        const charts = await google.colab.kernel.invokeFunction(\n",
       "            'suggestCharts', [key], {});\n",
       "      }\n",
       "    </script>\n",
       "\n",
       "      <script>\n",
       "\n",
       "function displayQuickchartButton(domScope) {\n",
       "  let quickchartButtonEl =\n",
       "    domScope.querySelector('#df-9c831ef9-5f27-4fda-9c09-83a3879e08a4 button.colab-df-quickchart');\n",
       "  quickchartButtonEl.style.display =\n",
       "    google.colab.kernel.accessAllowed ? 'block' : 'none';\n",
       "}\n",
       "\n",
       "        displayQuickchartButton(document);\n",
       "      </script>\n",
       "      <style>\n",
       "    .colab-df-container {\n",
       "      display:flex;\n",
       "      flex-wrap:wrap;\n",
       "      gap: 12px;\n",
       "    }\n",
       "\n",
       "    .colab-df-convert {\n",
       "      background-color: #E8F0FE;\n",
       "      border: none;\n",
       "      border-radius: 50%;\n",
       "      cursor: pointer;\n",
       "      display: none;\n",
       "      fill: #1967D2;\n",
       "      height: 32px;\n",
       "      padding: 0 0 0 0;\n",
       "      width: 32px;\n",
       "    }\n",
       "\n",
       "    .colab-df-convert:hover {\n",
       "      background-color: #E2EBFA;\n",
       "      box-shadow: 0px 1px 2px rgba(60, 64, 67, 0.3), 0px 1px 3px 1px rgba(60, 64, 67, 0.15);\n",
       "      fill: #174EA6;\n",
       "    }\n",
       "\n",
       "    [theme=dark] .colab-df-convert {\n",
       "      background-color: #3B4455;\n",
       "      fill: #D2E3FC;\n",
       "    }\n",
       "\n",
       "    [theme=dark] .colab-df-convert:hover {\n",
       "      background-color: #434B5C;\n",
       "      box-shadow: 0px 1px 3px 1px rgba(0, 0, 0, 0.15);\n",
       "      filter: drop-shadow(0px 1px 2px rgba(0, 0, 0, 0.3));\n",
       "      fill: #FFFFFF;\n",
       "    }\n",
       "  </style>\n",
       "\n",
       "      <script>\n",
       "        const buttonEl =\n",
       "          document.querySelector('#df-ddb7c1f5-eccd-40fb-975b-a8393462a89c button.colab-df-convert');\n",
       "        buttonEl.style.display =\n",
       "          google.colab.kernel.accessAllowed ? 'block' : 'none';\n",
       "\n",
       "        async function convertToInteractive(key) {\n",
       "          const element = document.querySelector('#df-ddb7c1f5-eccd-40fb-975b-a8393462a89c');\n",
       "          const dataTable =\n",
       "            await google.colab.kernel.invokeFunction('convertToInteractive',\n",
       "                                                     [key], {});\n",
       "          if (!dataTable) return;\n",
       "\n",
       "          const docLinkHtml = 'Like what you see? Visit the ' +\n",
       "            '<a target=\"_blank\" href=https://colab.research.google.com/notebooks/data_table.ipynb>data table notebook</a>'\n",
       "            + ' to learn more about interactive tables.';\n",
       "          element.innerHTML = '';\n",
       "          dataTable['output_type'] = 'display_data';\n",
       "          await google.colab.output.renderOutput(dataTable, element);\n",
       "          const docLink = document.createElement('div');\n",
       "          docLink.innerHTML = docLinkHtml;\n",
       "          element.appendChild(docLink);\n",
       "        }\n",
       "      </script>\n",
       "    </div>\n",
       "  </div>\n"
      ],
      "text/plain": [
       "                    ID       EVI      NDVI  system_start_time  \\\n",
       "0  102309_WSDA_SF_2017 -0.078609 -0.010085       1.483471e+09   \n",
       "1  102385_WSDA_SF_2017  0.126676  0.048970       1.483471e+09   \n",
       "\n",
       "  human_system_start_time  \n",
       "0              2017-01-03  \n",
       "1              2017-01-03  "
      ]
     },
     "execution_count": 18,
     "metadata": {},
     "output_type": "execute_result"
    }
   ],
   "source": [
    "# Add human readable time to the dataframe\n",
    "reduced = nc.add_human_start_time_by_system_start_time(reduced)\n",
    "reduced.head(2)"
   ]
  },
  {
   "cell_type": "code",
   "execution_count": 19,
   "metadata": {
    "colab": {
     "base_uri": "https://localhost:8080/",
     "height": 291
    },
    "id": "sqXm2ZKkSedK",
    "outputId": "5a5632e8-d452-45b8-d2b5-f3cda9b8dd47"
   },
   "outputs": [
    {
     "data": {
      "image/png": "[encoded data removed]",
      "text/plain": [
       "<Figure size 1200x300 with 1 Axes>"
      ]
     },
     "metadata": {},
     "output_type": "display_data"
    }
   ],
   "source": [
    "#  Pick a field\n",
    "a_field = reduced[reduced.ID==reduced.ID.unique()[0]].copy()\n",
    "a_field.sort_values(by='human_system_start_time', axis=0, ascending=True, inplace=True)\n",
    "\n",
    "# Plot\n",
    "fig, ax = plt.subplots(1, 1, figsize=(12, 3),\n",
    "                       sharex='col', sharey='row',\n",
    "                       # sharex=True, sharey=True,\n",
    "                       gridspec_kw={'hspace': 0.2, 'wspace': .05});\n",
    "ax.grid(axis='y', which=\"both\")\n",
    "\n",
    "ax.scatter(a_field['human_system_start_time'], a_field[VI_idx], s=40, c='#d62728');\n",
    "ax.plot(a_field['human_system_start_time'], a_field[VI_idx],\n",
    "        linestyle='-',  linewidth=3.5, color=\"#d62728\", alpha=0.8,\n",
    "        label=f\"raw {VI_idx}\")\n",
    "plt.ylim([-0.5, 1.2]);\n",
    "ax.legend(loc=\"lower right\");\n",
    "# ax.set_title(a_field.CropTyp.unique()[0]);"
   ]
  },
  {
   "cell_type": "markdown",
   "metadata": {
    "id": "zTYd9dqLSsxn"
   },
   "source": [
    "# Efficiency\n",
    "\n",
    "Can we make this more efficient by doing the calculations in place as opposed to creating a new ```dataframe``` and copying stuff. Perhaps ```.map(.)``` too.\n",
    "\n",
    "**Remove outliers**"
   ]
  },
  {
   "cell_type": "code",
   "execution_count": 20,
   "metadata": {
    "id": "bAHLlnE7Szjw"
   },
   "outputs": [],
   "source": [
    "reduced[\"ID\"] = reduced[\"ID\"].astype(str)\n",
    "p = np.sort(reduced[\"ID\"].unique())\n"
   ]
  },
  {
   "cell_type": "code",
   "execution_count": 21,
   "metadata": {
    "colab": {
     "base_uri": "https://localhost:8080/"
    },
    "id": "FAxGeCA-TEoF",
    "outputId": "33983664-ac38-4f5a-a8f4-ba65353e1618"
   },
   "outputs": [
    {
     "name": "stdout",
     "output_type": "stream",
     "text": [
      "counter is [0].\n"
     ]
    }
   ],
   "source": [
    "no_outlier_df = pd.DataFrame(data = None,\n",
    "                         index = np.arange(reduced.shape[0]),\n",
    "                         columns = reduced.columns)\n",
    "counter = 0\n",
    "row_pointer = 0\n",
    "for a_poly in IDs:\n",
    "    if (counter % 1000 == 0):\n",
    "        print (\"counter is [{:.0f}].\".format(counter))\n",
    "    curr_field = reduced[reduced[\"ID\"]==a_poly].copy()\n",
    "    # small fields may have nothing in them!\n",
    "    if curr_field.shape[0] > 2:\n",
    "        ##************************************************\n",
    "        #\n",
    "        #    Set negative index values to zero.\n",
    "        #\n",
    "        ##************************************************\n",
    "        no_Outlier_TS = nc.interpolate_outliers_EVI_NDVI(outlier_input = curr_field, given_col = VI_idx)\n",
    "        no_Outlier_TS.loc[no_Outlier_TS[VI_idx\n",
    "                                        ] < 0 , VI_idx] = 0\n",
    "\n",
    "        \"\"\"\n",
    "        it is possible that for a field we only have x=2 data points\n",
    "        where all the EVI/NDVI is outlier. Then, there is nothing to\n",
    "        use for interpolation. So, hopefully interpolate_outliers_EVI_NDVI is returning an empty data table.\n",
    "        \"\"\"\n",
    "        if len(no_Outlier_TS) > 0:\n",
    "            no_outlier_df[row_pointer: row_pointer + curr_field.shape[0]] = no_Outlier_TS.values\n",
    "            counter += 1\n",
    "            row_pointer += curr_field.shape[0]\n",
    "\n",
    "# Sanity check. Will neved occur. At least should not!\n",
    "no_outlier_df.drop_duplicates(inplace=True)"
   ]
  },
  {
   "cell_type": "markdown",
   "metadata": {
    "id": "L0Bu6xyNTIN7"
   },
   "source": [
    "**Remove the jumps**\n",
    "\n",
    "Maybe we can remove old/previous dataframes to free memory up!"
   ]
  },
  {
   "cell_type": "code",
   "execution_count": 22,
   "metadata": {
    "colab": {
     "base_uri": "https://localhost:8080/"
    },
    "id": "bn2-bHZ4Tfk9",
    "outputId": "770648c8-6052-4e93-8158-2d19d948d5fe"
   },
   "outputs": [
    {
     "name": "stdout",
     "output_type": "stream",
     "text": [
      "counter is [0].\n",
      "Shape of noJump_df before dropping duplicates is (210, 5).\n",
      "Shape of noJump_df after dropping duplicates is (210, 5).\n"
     ]
    }
   ],
   "source": [
    "noJump_df = pd.DataFrame(data = None,\n",
    "                         index = np.arange(no_outlier_df.shape[0]),\n",
    "                         columns = no_outlier_df.columns)\n",
    "counter, row_pointer = 0, 0\n",
    "\n",
    "for a_poly in IDs:\n",
    "    if (counter % 1000 == 0):\n",
    "        print (\"counter is [{:.0f}].\".format(counter))\n",
    "    curr_field = no_outlier_df[no_outlier_df[\"ID\"]==a_poly].copy()\n",
    "\n",
    "    ################################################################\n",
    "    # Sort by DoY (sanitary check)\n",
    "    curr_field.sort_values(by=['human_system_start_time'], inplace=True)\n",
    "    curr_field.reset_index(drop=True, inplace=True)\n",
    "\n",
    "    ################################################################\n",
    "\n",
    "    no_Outlier_TS = nc.correct_big_jumps_1DaySeries_JFD(dataTMS_jumpie = curr_field,\n",
    "                                                        give_col = VI_idx\n",
    "                                                        ,\n",
    "                                                        maxjump_perDay = 0.018)\n",
    "\n",
    "    noJump_df[row_pointer: row_pointer + curr_field.shape[0]] = no_Outlier_TS.values\n",
    "    counter += 1\n",
    "    row_pointer += curr_field.shape[0]\n",
    "\n",
    "noJump_df['human_system_start_time'] = pd.to_datetime(noJump_df['human_system_start_time'])\n",
    "\n",
    "# Sanity check. Will neved occur. At least should not!\n",
    "print (\"Shape of noJump_df before dropping duplicates is {}.\".format(noJump_df.shape))\n",
    "noJump_df.drop_duplicates(inplace=True)\n",
    "print (\"Shape of noJump_df after dropping duplicates is {}.\".format(noJump_df.shape))\n",
    "\n",
    "del(no_Outlier_TS)"
   ]
  },
  {
   "cell_type": "markdown",
   "metadata": {
    "id": "evXDiJKxTjEQ"
   },
   "source": [
    "**Regularize**\n",
    "\n",
    "Here we regularize the data. \"Regularization\" means pick a value for every 10-days. Doing this ensures\n",
    "\n",
    "1.   all inputs have the same length,\n",
    "2.   by picking maximum value of a VI we are reducing the noise in the time-series by eliminating noisy data points. For example, snow or shaddow can lead to understimating the true VI.\n",
    "\n",
    "Moreover, here, I am keeping only 3 columns. As long as we have ```ID``` we can\n",
    "merge the big dataframe with the final result later, here or externally.\n",
    "This will reduce amount of memory needed. Perhaps I should do this\n",
    "right the beginning."
   ]
  },
  {
   "cell_type": "code",
   "execution_count": 23,
   "metadata": {
    "colab": {
     "base_uri": "https://localhost:8080/"
    },
    "id": "fynzOVKCT3qE",
    "outputId": "b1a81196-ecfe-4136-e952-6cc968253cf6"
   },
   "outputs": [
    {
     "name": "stdout",
     "output_type": "stream",
     "text": [
      "st_yr is 2017.\n",
      "end_yr is 2017.\n",
      "nrows is 148.\n",
      "==============================================================================\n",
      "counter is [0].\n",
      "CPU times: user 243 ms, sys: 15.4 ms, total: 258 ms\n",
      "Wall time: 264 ms\n"
     ]
    }
   ],
   "source": [
    "%%time\n",
    "\n",
    "# define parameters\n",
    "regular_window_size = 10\n",
    "reg_cols = ['ID', 'human_system_start_time', VI_idx] # system_start_time list(noJump_df.columns)\n",
    "\n",
    "st_yr = noJump_df.human_system_start_time.dt.year.min()\n",
    "end_yr = noJump_df.human_system_start_time.dt.year.max()\n",
    "no_days = (end_yr - st_yr + 1) * 366 # 14 years, each year 366 days!\n",
    "\n",
    "no_steps = int(np.ceil(no_days / regular_window_size)) # no_days // regular_window_size\n",
    "\n",
    "nrows = no_steps * len(IDs)\n",
    "print('st_yr is {}.'.format(st_yr))\n",
    "print('end_yr is {}.'.format(end_yr))\n",
    "print('nrows is {}.'.format(nrows))\n",
    "print (long_eq)\n",
    "\n",
    "\n",
    "regular_df = pd.DataFrame(data = None,\n",
    "                         index = np.arange(nrows),\n",
    "                         columns = reg_cols)\n",
    "counter, row_pointer = 0, 0\n",
    "\n",
    "for a_poly in IDs:\n",
    "    if (counter % 1000 == 0):\n",
    "        print (\"counter is [{:.0f}].\".format(counter))\n",
    "    curr_field = noJump_df[noJump_df[\"ID\"]==a_poly].copy()\n",
    "    ################################################################\n",
    "    # Sort by date (sanitary check)\n",
    "    curr_field.sort_values(by=['human_system_start_time'], inplace=True)\n",
    "    curr_field.reset_index(drop=True, inplace=True)\n",
    "\n",
    "    ################################################################\n",
    "    regularized_TS = nc.regularize_a_field(a_df = curr_field, \\\n",
    "                                           V_idks = VI_idx, \\\n",
    "                                           interval_size = regular_window_size,\\\n",
    "                                           start_year = st_yr, \\\n",
    "                                           end_year = end_yr)\n",
    "\n",
    "    regularized_TS = nc.fill_theGap_linearLine(a_regularized_TS = regularized_TS, V_idx = VI_idx)\n",
    "    # if (counter == 0):\n",
    "    #     print (\"regular_df columns:\",     regular_df.columns)\n",
    "    #     print (\"regularized_TS.columns\", regularized_TS.columns)\n",
    "\n",
    "    ################################################################\n",
    "    # row_pointer = no_steps * counter\n",
    "\n",
    "    \"\"\"\n",
    "       The reason for the following line is that we assume all years are 366 days!\n",
    "       so, the actual thing might be smaller!\n",
    "    \"\"\"\n",
    "    # why this should not work?: It may leave some empty rows in regular_df\n",
    "    # but we drop them at the end.\n",
    "    regular_df[row_pointer : (row_pointer+regularized_TS.shape[0])] = regularized_TS.values\n",
    "    row_pointer += regularized_TS.shape[0]\n",
    "    counter += 1\n",
    "\n",
    "regular_df['human_system_start_time'] = pd.to_datetime(regular_df['human_system_start_time'])\n",
    "regular_df.drop_duplicates(inplace=True)\n",
    "regular_df.dropna(inplace=True)\n",
    "\n",
    "# Sanity Check\n",
    "regular_df.sort_values(by=[\"ID\", 'human_system_start_time'], inplace=True)\n",
    "regular_df.reset_index(drop=True, inplace=True)\n",
    "\n",
    "del(noJump_df)"
   ]
  },
  {
   "cell_type": "code",
   "execution_count": 23,
   "metadata": {
    "id": "lqzNrGrET74H"
   },
   "outputs": [],
   "source": []
  },
  {
   "cell_type": "code",
   "execution_count": 24,
   "metadata": {
    "colab": {
     "base_uri": "https://localhost:8080/",
     "height": 291
    },
    "id": "ykCINQmQU9xd",
    "outputId": "e3413fab-091a-4a7b-c8e3-56c9cdfe2f49"
   },
   "outputs": [
    {
     "data": {
      "image/png": "[encoded data removed]",
      "text/plain": [
       "<Figure size 1200x300 with 1 Axes>"
      ]
     },
     "metadata": {},
     "output_type": "display_data"
    }
   ],
   "source": [
    "#  Pick a field\n",
    "a_field = regular_df[regular_df.ID==reduced.ID.unique()[0]].copy()\n",
    "a_field.sort_values(by='human_system_start_time', axis=0, ascending=True, inplace=True)\n",
    "\n",
    "# Plot\n",
    "fig, ax = plt.subplots(1, 1, figsize=(12, 3), sharex='col', sharey='row',\n",
    "                       gridspec_kw={'hspace': 0.2, 'wspace': .05});\n",
    "ax.grid(True);\n",
    "ax.plot(a_field['human_system_start_time'],\n",
    "        a_field[VI_idx],\n",
    "        linestyle='-', label=VI_idx, linewidth=3.5, color=\"dodgerblue\", alpha=0.8)\n",
    "\n",
    "ax.legend(loc=\"lower right\");\n",
    "plt.ylim([-0.5, 1.2]);"
   ]
  },
  {
   "cell_type": "markdown",
   "metadata": {
    "id": "IjmgbKcDVTiw"
   },
   "source": [
    "**Savitzky-Golay Smoothing**"
   ]
  },
  {
   "cell_type": "code",
   "execution_count": 25,
   "metadata": {
    "colab": {
     "base_uri": "https://localhost:8080/"
    },
    "id": "oVhXa8DwVegh",
    "outputId": "513c7a3d-4de2-4c2b-ab75-df5e8c1b0179"
   },
   "outputs": [
    {
     "name": "stdout",
     "output_type": "stream",
     "text": [
      "counter is [0].\n",
      "CPU times: user 14.1 ms, sys: 782 µs, total: 14.8 ms\n",
      "Wall time: 40.8 ms\n"
     ]
    }
   ],
   "source": [
    "%%time\n",
    "counter = 0\n",
    "window_len, polynomial_order = 7, 3\n",
    "\n",
    "for a_poly in IDs:\n",
    "    if (counter % 300 == 0):\n",
    "        print (\"counter is [{:.0f}].\".format(counter))\n",
    "    curr_field = regular_df[regular_df[\"ID\"]==a_poly].copy()\n",
    "\n",
    "    # Smoothen by Savitzky-Golay\n",
    "    SG = scipy.signal.savgol_filter(curr_field[VI_idx].values, window_length=window_len, polyorder=polynomial_order)\n",
    "    SG[SG > 1 ] = 1 # SG might violate the boundaries. clip them:\n",
    "    SG[SG < -1 ] = -1\n",
    "    regular_df.loc[curr_field.index, VI_idx] = SG\n",
    "    counter += 1"
   ]
  },
  {
   "cell_type": "code",
   "execution_count": 26,
   "metadata": {
    "colab": {
     "base_uri": "https://localhost:8080/",
     "height": 291
    },
    "id": "7MwDu6q2Vpji",
    "outputId": "c4ef40a5-8a9f-41da-fa53-98b024e3db9a"
   },
   "outputs": [
    {
     "data": {
      "image/png": "[encoded data removed]",
      "text/plain": [
       "<Figure size 1200x300 with 1 Axes>"
      ]
     },
     "metadata": {},
     "output_type": "display_data"
    }
   ],
   "source": [
    "# Pick a field\n",
    "an_ID = IDs[0]\n",
    "a_field = regular_df[regular_df.ID==an_ID].copy()\n",
    "a_field.sort_values(by='human_system_start_time', axis=0, ascending=True, inplace=True)\n",
    "\n",
    "# Plot\n",
    "fig, ax = plt.subplots(1, 1, figsize=(12, 3), sharex='col', sharey='row', gridspec_kw={'hspace': 0.2, 'wspace': .05});\n",
    "ax.grid(True);\n",
    "ax.plot(a_field['human_system_start_time'], a_field[VI_idx],\n",
    "        linestyle='-',  linewidth=3.5, color=\"dodgerblue\", alpha=0.8, label=f\"smooth {VI_idx}\")\n",
    "\n",
    "# Raw data where we started from\n",
    "raw = reduced[reduced.ID==an_ID].copy()\n",
    "raw.sort_values(by='human_system_start_time', axis=0, ascending=True, inplace=True)\n",
    "ax.scatter(raw['human_system_start_time'], raw[VI_idx], s=15, c='#d62728', label=f\"raw {VI_idx}\");\n",
    "\n",
    "ax.legend(loc=\"lower right\");\n",
    "plt.ylim([-0.5, 1.2]);"
   ]
  },
  {
   "cell_type": "code",
   "execution_count": 27,
   "metadata": {
    "colab": {
     "base_uri": "https://localhost:8080/",
     "height": 112
    },
    "id": "SpyopmVQWiFD",
    "outputId": "c85e3ca8-c519-4b1a-96d4-f76ec401d0d1"
   },
   "outputs": [
    {
     "data": {
      "text/html": [
       "\n",
       "\n",
       "  <div id=\"df-9ec1a155-87a5-4590-b804-130b63868197\">\n",
       "    <div class=\"colab-df-container\">\n",
       "      <div>\n",
       "<style scoped>\n",
       "    .dataframe tbody tr th:only-of-type {\n",
       "        vertical-align: middle;\n",
       "    }\n",
       "\n",
       "    .dataframe tbody tr th {\n",
       "        vertical-align: top;\n",
       "    }\n",
       "\n",
       "    .dataframe thead th {\n",
       "        text-align: right;\n",
       "    }\n",
       "</style>\n",
       "<table border=\"1\" class=\"dataframe\">\n",
       "  <thead>\n",
       "    <tr style=\"text-align: right;\">\n",
       "      <th></th>\n",
       "      <th>ID</th>\n",
       "      <th>human_system_start_time</th>\n",
       "      <th>NDVI</th>\n",
       "    </tr>\n",
       "  </thead>\n",
       "  <tbody>\n",
       "    <tr>\n",
       "      <th>0</th>\n",
       "      <td>102309_WSDA_SF_2017</td>\n",
       "      <td>2017-01-03</td>\n",
       "      <td>0.002699</td>\n",
       "    </tr>\n",
       "    <tr>\n",
       "      <th>1</th>\n",
       "      <td>102309_WSDA_SF_2017</td>\n",
       "      <td>2017-01-13</td>\n",
       "      <td>-0.005399</td>\n",
       "    </tr>\n",
       "  </tbody>\n",
       "</table>\n",
       "</div>\n",
       "      <button class=\"colab-df-convert\" onclick=\"convertToInteractive('df-9ec1a155-87a5-4590-b804-130b63868197')\"\n",
       "              title=\"Convert this dataframe to an interactive table.\"\n",
       "              style=\"display:none;\">\n",
       "\n",
       "  <svg xmlns=\"http://www.w3.org/2000/svg\" height=\"24px\"viewBox=\"0 0 24 24\"\n",
       "       width=\"24px\">\n",
       "    <path d=\"M0 0h24v24H0V0z\" fill=\"none\"/>\n",
       "    <path d=\"M18.56 5.44l.94 2.06.94-2.06 2.06-.94-2.06-.94-.94-2.06-.94 2.06-2.06.94zm-11 1L8.5 8.5l.94-2.06 2.06-.94-2.06-.94L8.5 2.5l-.94 2.06-2.06.94zm10 10l.94 2.06.94-2.06 2.06-.94-2.06-.94-.94-2.06-.94 2.06-2.06.94z\"/><path d=\"M17.41 7.96l-1.37-1.37c-.4-.4-.92-.59-1.43-.59-.52 0-1.04.2-1.43.59L10.3 9.45l-7.72 7.72c-.78.78-.78 2.05 0 2.83L4 21.41c.39.39.9.59 1.41.59.51 0 1.02-.2 1.41-.59l7.78-7.78 2.81-2.81c.8-.78.8-2.07 0-2.86zM5.41 20L4 18.59l7.72-7.72 1.47 1.35L5.41 20z\"/>\n",
       "  </svg>\n",
       "      </button>\n",
       "\n",
       "\n",
       "\n",
       "    <div id=\"df-68cc3a86-3e11-46df-bd66-246966e3a79a\">\n",
       "      <button class=\"colab-df-quickchart\" onclick=\"quickchart('df-68cc3a86-3e11-46df-bd66-246966e3a79a')\"\n",
       "              title=\"Suggest charts.\"\n",
       "              style=\"display:none;\">\n",
       "\n",
       "<svg xmlns=\"http://www.w3.org/2000/svg\" height=\"24px\"viewBox=\"0 0 24 24\"\n",
       "     width=\"24px\">\n",
       "    <g>\n",
       "        <path d=\"M19 3H5c-1.1 0-2 .9-2 2v14c0 1.1.9 2 2 2h14c1.1 0 2-.9 2-2V5c0-1.1-.9-2-2-2zM9 17H7v-7h2v7zm4 0h-2V7h2v10zm4 0h-2v-4h2v4z\"/>\n",
       "    </g>\n",
       "</svg>\n",
       "      </button>\n",
       "    </div>\n",
       "\n",
       "<style>\n",
       "  .colab-df-quickchart {\n",
       "    background-color: #E8F0FE;\n",
       "    border: none;\n",
       "    border-radius: 50%;\n",
       "    cursor: pointer;\n",
       "    display: none;\n",
       "    fill: #1967D2;\n",
       "    height: 32px;\n",
       "    padding: 0 0 0 0;\n",
       "    width: 32px;\n",
       "  }\n",
       "\n",
       "  .colab-df-quickchart:hover {\n",
       "    background-color: #E2EBFA;\n",
       "    box-shadow: 0px 1px 2px rgba(60, 64, 67, 0.3), 0px 1px 3px 1px rgba(60, 64, 67, 0.15);\n",
       "    fill: #174EA6;\n",
       "  }\n",
       "\n",
       "  [theme=dark] .colab-df-quickchart {\n",
       "    background-color: #3B4455;\n",
       "    fill: #D2E3FC;\n",
       "  }\n",
       "\n",
       "  [theme=dark] .colab-df-quickchart:hover {\n",
       "    background-color: #434B5C;\n",
       "    box-shadow: 0px 1px 3px 1px rgba(0, 0, 0, 0.15);\n",
       "    filter: drop-shadow(0px 1px 2px rgba(0, 0, 0, 0.3));\n",
       "    fill: #FFFFFF;\n",
       "  }\n",
       "</style>\n",
       "\n",
       "    <script>\n",
       "      async function quickchart(key) {\n",
       "        const containerElement = document.querySelector('#' + key);\n",
       "        const charts = await google.colab.kernel.invokeFunction(\n",
       "            'suggestCharts', [key], {});\n",
       "      }\n",
       "    </script>\n",
       "\n",
       "      <script>\n",
       "\n",
       "function displayQuickchartButton(domScope) {\n",
       "  let quickchartButtonEl =\n",
       "    domScope.querySelector('#df-68cc3a86-3e11-46df-bd66-246966e3a79a button.colab-df-quickchart');\n",
       "  quickchartButtonEl.style.display =\n",
       "    google.colab.kernel.accessAllowed ? 'block' : 'none';\n",
       "}\n",
       "\n",
       "        displayQuickchartButton(document);\n",
       "      </script>\n",
       "      <style>\n",
       "    .colab-df-container {\n",
       "      display:flex;\n",
       "      flex-wrap:wrap;\n",
       "      gap: 12px;\n",
       "    }\n",
       "\n",
       "    .colab-df-convert {\n",
       "      background-color: #E8F0FE;\n",
       "      border: none;\n",
       "      border-radius: 50%;\n",
       "      cursor: pointer;\n",
       "      display: none;\n",
       "      fill: #1967D2;\n",
       "      height: 32px;\n",
       "      padding: 0 0 0 0;\n",
       "      width: 32px;\n",
       "    }\n",
       "\n",
       "    .colab-df-convert:hover {\n",
       "      background-color: #E2EBFA;\n",
       "      box-shadow: 0px 1px 2px rgba(60, 64, 67, 0.3), 0px 1px 3px 1px rgba(60, 64, 67, 0.15);\n",
       "      fill: #174EA6;\n",
       "    }\n",
       "\n",
       "    [theme=dark] .colab-df-convert {\n",
       "      background-color: #3B4455;\n",
       "      fill: #D2E3FC;\n",
       "    }\n",
       "\n",
       "    [theme=dark] .colab-df-convert:hover {\n",
       "      background-color: #434B5C;\n",
       "      box-shadow: 0px 1px 3px 1px rgba(0, 0, 0, 0.15);\n",
       "      filter: drop-shadow(0px 1px 2px rgba(0, 0, 0, 0.3));\n",
       "      fill: #FFFFFF;\n",
       "    }\n",
       "  </style>\n",
       "\n",
       "      <script>\n",
       "        const buttonEl =\n",
       "          document.querySelector('#df-9ec1a155-87a5-4590-b804-130b63868197 button.colab-df-convert');\n",
       "        buttonEl.style.display =\n",
       "          google.colab.kernel.accessAllowed ? 'block' : 'none';\n",
       "\n",
       "        async function convertToInteractive(key) {\n",
       "          const element = document.querySelector('#df-9ec1a155-87a5-4590-b804-130b63868197');\n",
       "          const dataTable =\n",
       "            await google.colab.kernel.invokeFunction('convertToInteractive',\n",
       "                                                     [key], {});\n",
       "          if (!dataTable) return;\n",
       "\n",
       "          const docLinkHtml = 'Like what you see? Visit the ' +\n",
       "            '<a target=\"_blank\" href=https://colab.research.google.com/notebooks/data_table.ipynb>data table notebook</a>'\n",
       "            + ' to learn more about interactive tables.';\n",
       "          element.innerHTML = '';\n",
       "          dataTable['output_type'] = 'display_data';\n",
       "          await google.colab.output.renderOutput(dataTable, element);\n",
       "          const docLink = document.createElement('div');\n",
       "          docLink.innerHTML = docLinkHtml;\n",
       "          element.appendChild(docLink);\n",
       "        }\n",
       "      </script>\n",
       "    </div>\n",
       "  </div>\n"
      ],
      "text/plain": [
       "                    ID human_system_start_time      NDVI\n",
       "0  102309_WSDA_SF_2017              2017-01-03  0.002699\n",
       "1  102309_WSDA_SF_2017              2017-01-13 -0.005399"
      ]
     },
     "execution_count": 27,
     "metadata": {},
     "output_type": "execute_result"
    }
   ],
   "source": [
    "regular_df['human_system_start_time'] = pd.to_datetime(regular_df['human_system_start_time'])\n",
    "# regular_df = pd.merge(regular_df, SF_data, on=['ID'], how='left') # we can do this later.\n",
    "regular_df.reset_index(drop=True, inplace=True)\n",
    "regular_df = nc.initial_clean(df=regular_df, column_to_be_cleaned = VI_idx\n",
    "                              )\n",
    "regular_df.head(2)"
   ]
  },
  {
   "cell_type": "markdown",
   "metadata": {
    "id": "RCVxZ2CJtUkR"
   },
   "source": [
    "**Widen the data to use with ML (other than DL)**"
   ]
  },
  {
   "cell_type": "code",
   "execution_count": 36,
   "metadata": {
    "id": "GwjpZeyCtdHB"
   },
   "outputs": [],
   "source": [
    "model = \"DL\"\n",
    "\n",
    "if model != \"DL\":\n",
    "    VI_colnames = [VI_idx + \"_\" + str(ii) for ii in range(1, 37)]\n",
    "    columnNames = [\"ID\", \"year\"] + VI_colnames\n",
    "\n",
    "    years = regular_df.human_system_start_time.dt.year.unique()\n",
    "    no_rows = len(IDs) * len(years)\n",
    "\n",
    "    data_wide = pd.DataFrame(columns=columnNames, index=range(no_rows))\n",
    "    data_wide.ID = list(IDs) * len(years)\n",
    "    data_wide.sort_values(by=[\"ID\"], inplace=True)\n",
    "    data_wide.reset_index(drop=True, inplace=True)\n",
    "    data_wide.year = list(years) * len(IDs)\n",
    "\n",
    "    for an_ID in IDs:\n",
    "        curr_field = regular_df[regular_df.ID == an_ID]\n",
    "        curr_years = curr_field.human_system_start_time.dt.year.unique()\n",
    "        for a_year in curr_years:\n",
    "            curr_field_year = curr_field[curr_field.human_system_start_time.dt.year == a_year]\n",
    "\n",
    "            data_wide_indx = data_wide[(data_wide.ID == an_ID) & (data_wide.year == a_year)].index\n",
    "\n",
    "            if VI_idx == \"EVI\":\n",
    "                data_wide.loc[data_wide_indx, \"EVI_1\":\"EVI_36\"] = curr_field_year.EVI.values[:36]\n",
    "            elif VI_idx == \"NDVI\":\n",
    "                data_wide.loc[data_wide_indx, \"NDVI_1\":\"NDVI_36\"] = curr_field_year.NDVI.values[:36]"
   ]
  },
  {
   "cell_type": "markdown",
   "metadata": {
    "id": "AYMI0RwcWjc7"
   },
   "source": [
    "# Please tell me where to look for the trained models and I will make you happy!"
   ]
  },
  {
   "cell_type": "code",
   "execution_count": 37,
   "metadata": {
    "id": "4HwojA6Ppui5"
   },
   "outputs": [],
   "source": [
    "model_dir = \"/content/drive/MyDrive/NASA_trends/Models_Oct17/\"\n",
    "model_dir = \"/content/drive/MyDrive/Colab Notebooks/Models_Oct17/\""
   ]
  },
  {
   "cell_type": "code",
   "execution_count": 38,
   "metadata": {
    "id": "cHr4PiBJwfQU"
   },
   "outputs": [],
   "source": [
    "import pickle\n",
    "\n",
    "if model == \"KNN\":\n",
    "    winnerModel = \"KNN_SG_NDVI_Oct17_AccScoring_Oversample_SR3.sav\"\n",
    "elif model == \"SVM\":\n",
    "    winnerModel = \"SG_NDVI_SVM_NoneWeight_00_Oct17_AccScoring_Oversample_SR3.sav\"\n",
    "elif model ==\"RF\":\n",
    "    winnerModel = \"SG_NDVI_RF_grid_2_Oct17_AccScoring_Oversample_SR5.sav\"\n",
    "else:\n",
    "    winnerModel = \"01_TL_NDVI_SG_train80_Oct17_oversample5.h5\""
   ]
  },
  {
   "cell_type": "code",
   "execution_count": 100,
   "metadata": {
    "id": "mb3UzKm5jV4S"
   },
   "outputs": [],
   "source": [
    "###\n",
    "### Load model and predict\n",
    "###\n",
    "if winnerModel.endswith(\".sav\"):\n",
    "    ML_model = pickle.load(open(model_dir + winnerModel, \"rb\"))\n",
    "    predictions = ML_model.predict(data_wide.iloc[:, 2:])\n",
    "    pred_colName = model + \"_\" + VI_idx  + \"_preds\"\n",
    "    A = pd.DataFrame(columns=[\"ID\", \"year\", pred_colName])\n",
    "    A.ID = data_wide.ID.values\n",
    "    A.year = data_wide.year.values\n",
    "    A[pred_colName] = predictions\n",
    "    predictions = A.copy()\n",
    "    del A\n",
    "else:\n",
    "    from tensorflow.keras.utils import to_categorical, load_img, img_to_array\n",
    "    from keras.models import Sequential, Model, load_model\n",
    "    from keras.applications.vgg16 import VGG16\n",
    "    import tensorflow as tf\n",
    "\n",
    "    # from keras.optimizers import SGD\n",
    "    from keras.layers import Conv2D, Dense, Flatten, MaxPooling2D\n",
    "    from tensorflow.keras.optimizers import SGD\n",
    "    from keras.preprocessing.image import ImageDataGenerator\n",
    "\n",
    "\n",
    "    #### Form predictions' dataframe\n",
    "    predictions = pd.DataFrame({\"ID\": list(regular_df.ID.unique())})\n",
    "    predictions[\"prob_single\"] = -1.0\n",
    "\n",
    "    ML_model = load_model(model_dir + winnerModel) # load model\n",
    "\n",
    "    image_dir = '/content/drive/MyDrive/colab_outputs/'\n",
    "    image_name = image_dir + \"fly_test.jpg\"\n",
    "    for an_ID in regular_df.ID.unique():\n",
    "        crr_fld = regular_df[regular_df.ID == an_ID]\n",
    "        fig, ax = plt.subplots()\n",
    "        fig.set_size_inches(10, 2.5)\n",
    "        ax.grid(False)\n",
    "        ax.plot(\n",
    "            crr_fld[\"human_system_start_time\"], crr_fld[VI_idx], c=\"dodgerblue\", linewidth=5\n",
    "        )\n",
    "        ax.axis(\"off\")\n",
    "        left = crr_fld[\"human_system_start_time\"].values[0]\n",
    "        right = crr_fld[\"human_system_start_time\"].values[-1]\n",
    "        ax.set_xlim([left, right]);\n",
    "        # the following line also works\n",
    "        ax.set_ylim([-0.005, 1]);\n",
    "        plt.savefig(fname = image_name, dpi = 200, bbox_inches = \"tight\", facecolor = \"w\")\n",
    "        plt.close(\"all\")\n",
    "        img = nc.load_image(image_name)\n",
    "        predictions.loc[predictions.ID == an_ID, \"prob_single\"] = ML_model.predict(img, verbose=False)[0][0]"
   ]
  },
  {
   "cell_type": "code",
   "execution_count": 101,
   "metadata": {
    "colab": {
     "base_uri": "https://localhost:8080/",
     "height": 175
    },
    "id": "ovFTtxfolhhk",
    "outputId": "c772c3cb-8180-4315-b626-4f563972e130"
   },
   "outputs": [
    {
     "data": {
      "text/html": [
       "\n",
       "\n",
       "  <div id=\"df-2fb4e46b-bfd9-4e49-b573-248494fbae84\">\n",
       "    <div class=\"colab-df-container\">\n",
       "      <div>\n",
       "<style scoped>\n",
       "    .dataframe tbody tr th:only-of-type {\n",
       "        vertical-align: middle;\n",
       "    }\n",
       "\n",
       "    .dataframe tbody tr th {\n",
       "        vertical-align: top;\n",
       "    }\n",
       "\n",
       "    .dataframe thead th {\n",
       "        text-align: right;\n",
       "    }\n",
       "</style>\n",
       "<table border=\"1\" class=\"dataframe\">\n",
       "  <thead>\n",
       "    <tr style=\"text-align: right;\">\n",
       "      <th></th>\n",
       "      <th>ID</th>\n",
       "      <th>prob_single</th>\n",
       "      <th>Acres</th>\n",
       "      <th>county</th>\n",
       "      <th>CropTyp</th>\n",
       "      <th>DataSrc</th>\n",
       "      <th>Irrigtn</th>\n",
       "      <th>LstSrvD</th>\n",
       "    </tr>\n",
       "  </thead>\n",
       "  <tbody>\n",
       "    <tr>\n",
       "      <th>0</th>\n",
       "      <td>102309_WSDA_SF_2017</td>\n",
       "      <td>8.959081e-10</td>\n",
       "      <td>109.0</td>\n",
       "      <td>Grant</td>\n",
       "      <td>wheat</td>\n",
       "      <td>wsda</td>\n",
       "      <td>center pivot</td>\n",
       "      <td>2017/07/11</td>\n",
       "    </tr>\n",
       "    <tr>\n",
       "      <th>1</th>\n",
       "      <td>102385_WSDA_SF_2017</td>\n",
       "      <td>1.000000e+00</td>\n",
       "      <td>24.0</td>\n",
       "      <td>Grant</td>\n",
       "      <td>wheat</td>\n",
       "      <td>wsda</td>\n",
       "      <td>center pivot</td>\n",
       "      <td>2017/07/12</td>\n",
       "    </tr>\n",
       "    <tr>\n",
       "      <th>2</th>\n",
       "      <td>103372_WSDA_SF_2017</td>\n",
       "      <td>4.600281e-05</td>\n",
       "      <td>11.0</td>\n",
       "      <td>Grant</td>\n",
       "      <td>yellow mustard</td>\n",
       "      <td>wsda</td>\n",
       "      <td>center pivot</td>\n",
       "      <td>2017/10/17</td>\n",
       "    </tr>\n",
       "    <tr>\n",
       "      <th>3</th>\n",
       "      <td>104563_WSDA_SF_2017</td>\n",
       "      <td>1.000000e+00</td>\n",
       "      <td>38.0</td>\n",
       "      <td>Grant</td>\n",
       "      <td>potato</td>\n",
       "      <td>wsda</td>\n",
       "      <td>rill</td>\n",
       "      <td>2017/05/16</td>\n",
       "    </tr>\n",
       "  </tbody>\n",
       "</table>\n",
       "</div>\n",
       "      <button class=\"colab-df-convert\" onclick=\"convertToInteractive('df-2fb4e46b-bfd9-4e49-b573-248494fbae84')\"\n",
       "              title=\"Convert this dataframe to an interactive table.\"\n",
       "              style=\"display:none;\">\n",
       "\n",
       "  <svg xmlns=\"http://www.w3.org/2000/svg\" height=\"24px\"viewBox=\"0 0 24 24\"\n",
       "       width=\"24px\">\n",
       "    <path d=\"M0 0h24v24H0V0z\" fill=\"none\"/>\n",
       "    <path d=\"M18.56 5.44l.94 2.06.94-2.06 2.06-.94-2.06-.94-.94-2.06-.94 2.06-2.06.94zm-11 1L8.5 8.5l.94-2.06 2.06-.94-2.06-.94L8.5 2.5l-.94 2.06-2.06.94zm10 10l.94 2.06.94-2.06 2.06-.94-2.06-.94-.94-2.06-.94 2.06-2.06.94z\"/><path d=\"M17.41 7.96l-1.37-1.37c-.4-.4-.92-.59-1.43-.59-.52 0-1.04.2-1.43.59L10.3 9.45l-7.72 7.72c-.78.78-.78 2.05 0 2.83L4 21.41c.39.39.9.59 1.41.59.51 0 1.02-.2 1.41-.59l7.78-7.78 2.81-2.81c.8-.78.8-2.07 0-2.86zM5.41 20L4 18.59l7.72-7.72 1.47 1.35L5.41 20z\"/>\n",
       "  </svg>\n",
       "      </button>\n",
       "\n",
       "\n",
       "\n",
       "    <div id=\"df-824777e9-1e63-4c33-9928-bccc8ea2a4c4\">\n",
       "      <button class=\"colab-df-quickchart\" onclick=\"quickchart('df-824777e9-1e63-4c33-9928-bccc8ea2a4c4')\"\n",
       "              title=\"Suggest charts.\"\n",
       "              style=\"display:none;\">\n",
       "\n",
       "<svg xmlns=\"http://www.w3.org/2000/svg\" height=\"24px\"viewBox=\"0 0 24 24\"\n",
       "     width=\"24px\">\n",
       "    <g>\n",
       "        <path d=\"M19 3H5c-1.1 0-2 .9-2 2v14c0 1.1.9 2 2 2h14c1.1 0 2-.9 2-2V5c0-1.1-.9-2-2-2zM9 17H7v-7h2v7zm4 0h-2V7h2v10zm4 0h-2v-4h2v4z\"/>\n",
       "    </g>\n",
       "</svg>\n",
       "      </button>\n",
       "    </div>\n",
       "\n",
       "<style>\n",
       "  .colab-df-quickchart {\n",
       "    background-color: #E8F0FE;\n",
       "    border: none;\n",
       "    border-radius: 50%;\n",
       "    cursor: pointer;\n",
       "    display: none;\n",
       "    fill: #1967D2;\n",
       "    height: 32px;\n",
       "    padding: 0 0 0 0;\n",
       "    width: 32px;\n",
       "  }\n",
       "\n",
       "  .colab-df-quickchart:hover {\n",
       "    background-color: #E2EBFA;\n",
       "    box-shadow: 0px 1px 2px rgba(60, 64, 67, 0.3), 0px 1px 3px 1px rgba(60, 64, 67, 0.15);\n",
       "    fill: #174EA6;\n",
       "  }\n",
       "\n",
       "  [theme=dark] .colab-df-quickchart {\n",
       "    background-color: #3B4455;\n",
       "    fill: #D2E3FC;\n",
       "  }\n",
       "\n",
       "  [theme=dark] .colab-df-quickchart:hover {\n",
       "    background-color: #434B5C;\n",
       "    box-shadow: 0px 1px 3px 1px rgba(0, 0, 0, 0.15);\n",
       "    filter: drop-shadow(0px 1px 2px rgba(0, 0, 0, 0.3));\n",
       "    fill: #FFFFFF;\n",
       "  }\n",
       "</style>\n",
       "\n",
       "    <script>\n",
       "      async function quickchart(key) {\n",
       "        const containerElement = document.querySelector('#' + key);\n",
       "        const charts = await google.colab.kernel.invokeFunction(\n",
       "            'suggestCharts', [key], {});\n",
       "      }\n",
       "    </script>\n",
       "\n",
       "      <script>\n",
       "\n",
       "function displayQuickchartButton(domScope) {\n",
       "  let quickchartButtonEl =\n",
       "    domScope.querySelector('#df-824777e9-1e63-4c33-9928-bccc8ea2a4c4 button.colab-df-quickchart');\n",
       "  quickchartButtonEl.style.display =\n",
       "    google.colab.kernel.accessAllowed ? 'block' : 'none';\n",
       "}\n",
       "\n",
       "        displayQuickchartButton(document);\n",
       "      </script>\n",
       "      <style>\n",
       "    .colab-df-container {\n",
       "      display:flex;\n",
       "      flex-wrap:wrap;\n",
       "      gap: 12px;\n",
       "    }\n",
       "\n",
       "    .colab-df-convert {\n",
       "      background-color: #E8F0FE;\n",
       "      border: none;\n",
       "      border-radius: 50%;\n",
       "      cursor: pointer;\n",
       "      display: none;\n",
       "      fill: #1967D2;\n",
       "      height: 32px;\n",
       "      padding: 0 0 0 0;\n",
       "      width: 32px;\n",
       "    }\n",
       "\n",
       "    .colab-df-convert:hover {\n",
       "      background-color: #E2EBFA;\n",
       "      box-shadow: 0px 1px 2px rgba(60, 64, 67, 0.3), 0px 1px 3px 1px rgba(60, 64, 67, 0.15);\n",
       "      fill: #174EA6;\n",
       "    }\n",
       "\n",
       "    [theme=dark] .colab-df-convert {\n",
       "      background-color: #3B4455;\n",
       "      fill: #D2E3FC;\n",
       "    }\n",
       "\n",
       "    [theme=dark] .colab-df-convert:hover {\n",
       "      background-color: #434B5C;\n",
       "      box-shadow: 0px 1px 3px 1px rgba(0, 0, 0, 0.15);\n",
       "      filter: drop-shadow(0px 1px 2px rgba(0, 0, 0, 0.3));\n",
       "      fill: #FFFFFF;\n",
       "    }\n",
       "  </style>\n",
       "\n",
       "      <script>\n",
       "        const buttonEl =\n",
       "          document.querySelector('#df-2fb4e46b-bfd9-4e49-b573-248494fbae84 button.colab-df-convert');\n",
       "        buttonEl.style.display =\n",
       "          google.colab.kernel.accessAllowed ? 'block' : 'none';\n",
       "\n",
       "        async function convertToInteractive(key) {\n",
       "          const element = document.querySelector('#df-2fb4e46b-bfd9-4e49-b573-248494fbae84');\n",
       "          const dataTable =\n",
       "            await google.colab.kernel.invokeFunction('convertToInteractive',\n",
       "                                                     [key], {});\n",
       "          if (!dataTable) return;\n",
       "\n",
       "          const docLinkHtml = 'Like what you see? Visit the ' +\n",
       "            '<a target=\"_blank\" href=https://colab.research.google.com/notebooks/data_table.ipynb>data table notebook</a>'\n",
       "            + ' to learn more about interactive tables.';\n",
       "          element.innerHTML = '';\n",
       "          dataTable['output_type'] = 'display_data';\n",
       "          await google.colab.output.renderOutput(dataTable, element);\n",
       "          const docLink = document.createElement('div');\n",
       "          docLink.innerHTML = docLinkHtml;\n",
       "          element.appendChild(docLink);\n",
       "        }\n",
       "      </script>\n",
       "    </div>\n",
       "  </div>\n"
      ],
      "text/plain": [
       "                    ID   prob_single  Acres county         CropTyp DataSrc  \\\n",
       "0  102309_WSDA_SF_2017  8.959081e-10  109.0  Grant           wheat    wsda   \n",
       "1  102385_WSDA_SF_2017  1.000000e+00   24.0  Grant           wheat    wsda   \n",
       "2  103372_WSDA_SF_2017  4.600281e-05   11.0  Grant  yellow mustard    wsda   \n",
       "3  104563_WSDA_SF_2017  1.000000e+00   38.0  Grant          potato    wsda   \n",
       "\n",
       "        Irrigtn     LstSrvD  \n",
       "0  center pivot  2017/07/11  \n",
       "1  center pivot  2017/07/12  \n",
       "2  center pivot  2017/10/17  \n",
       "3          rill  2017/05/16  "
      ]
     },
     "execution_count": 101,
     "metadata": {},
     "output_type": "execute_result"
    }
   ],
   "source": [
    "predictions = pd.merge(predictions, SF_data, on=['ID'], how='left')\n",
    "predictions"
   ]
  },
  {
   "cell_type": "code",
   "execution_count": null,
   "metadata": {
    "colab": {
     "base_uri": "https://localhost:8080/",
     "height": 175
    },
    "id": "QKBAJpkLwJLj",
    "outputId": "6bc78695-147c-4472-df4b-fcee53b117d9"
   },
   "outputs": [
    {
     "data": {
      "text/html": [
       "\n",
       "  <div id=\"df-809c0775-22c4-4cd6-8a05-773246229c67\">\n",
       "    <div class=\"colab-df-container\">\n",
       "      <div>\n",
       "<style scoped>\n",
       "    .dataframe tbody tr th:only-of-type {\n",
       "        vertical-align: middle;\n",
       "    }\n",
       "\n",
       "    .dataframe tbody tr th {\n",
       "        vertical-align: top;\n",
       "    }\n",
       "\n",
       "    .dataframe thead th {\n",
       "        text-align: right;\n",
       "    }\n",
       "</style>\n",
       "<table border=\"1\" class=\"dataframe\">\n",
       "  <thead>\n",
       "    <tr style=\"text-align: right;\">\n",
       "      <th></th>\n",
       "      <th>ID</th>\n",
       "      <th>year</th>\n",
       "      <th>SVM_NDVI_preds</th>\n",
       "      <th>Acres</th>\n",
       "      <th>county</th>\n",
       "      <th>CropTyp</th>\n",
       "      <th>DataSrc</th>\n",
       "      <th>Irrigtn</th>\n",
       "      <th>LstSrvD</th>\n",
       "    </tr>\n",
       "  </thead>\n",
       "  <tbody>\n",
       "    <tr>\n",
       "      <th>0</th>\n",
       "      <td>102309_WSDA_SF_2017</td>\n",
       "      <td>2017</td>\n",
       "      <td>1</td>\n",
       "      <td>109.0</td>\n",
       "      <td>Grant</td>\n",
       "      <td>wheat</td>\n",
       "      <td>wsda</td>\n",
       "      <td>center pivot</td>\n",
       "      <td>2017/07/11</td>\n",
       "    </tr>\n",
       "    <tr>\n",
       "      <th>1</th>\n",
       "      <td>102385_WSDA_SF_2017</td>\n",
       "      <td>2017</td>\n",
       "      <td>1</td>\n",
       "      <td>24.0</td>\n",
       "      <td>Grant</td>\n",
       "      <td>wheat</td>\n",
       "      <td>wsda</td>\n",
       "      <td>center pivot</td>\n",
       "      <td>2017/07/12</td>\n",
       "    </tr>\n",
       "    <tr>\n",
       "      <th>2</th>\n",
       "      <td>103372_WSDA_SF_2017</td>\n",
       "      <td>2017</td>\n",
       "      <td>2</td>\n",
       "      <td>11.0</td>\n",
       "      <td>Grant</td>\n",
       "      <td>yellow mustard</td>\n",
       "      <td>wsda</td>\n",
       "      <td>center pivot</td>\n",
       "      <td>2017/10/17</td>\n",
       "    </tr>\n",
       "    <tr>\n",
       "      <th>3</th>\n",
       "      <td>104563_WSDA_SF_2017</td>\n",
       "      <td>2017</td>\n",
       "      <td>1</td>\n",
       "      <td>38.0</td>\n",
       "      <td>Grant</td>\n",
       "      <td>potato</td>\n",
       "      <td>wsda</td>\n",
       "      <td>rill</td>\n",
       "      <td>2017/05/16</td>\n",
       "    </tr>\n",
       "  </tbody>\n",
       "</table>\n",
       "</div>\n",
       "      <button class=\"colab-df-convert\" onclick=\"convertToInteractive('df-809c0775-22c4-4cd6-8a05-773246229c67')\"\n",
       "              title=\"Convert this dataframe to an interactive table.\"\n",
       "              style=\"display:none;\">\n",
       "        \n",
       "  <svg xmlns=\"http://www.w3.org/2000/svg\" height=\"24px\"viewBox=\"0 0 24 24\"\n",
       "       width=\"24px\">\n",
       "    <path d=\"M0 0h24v24H0V0z\" fill=\"none\"/>\n",
       "    <path d=\"M18.56 5.44l.94 2.06.94-2.06 2.06-.94-2.06-.94-.94-2.06-.94 2.06-2.06.94zm-11 1L8.5 8.5l.94-2.06 2.06-.94-2.06-.94L8.5 2.5l-.94 2.06-2.06.94zm10 10l.94 2.06.94-2.06 2.06-.94-2.06-.94-.94-2.06-.94 2.06-2.06.94z\"/><path d=\"M17.41 7.96l-1.37-1.37c-.4-.4-.92-.59-1.43-.59-.52 0-1.04.2-1.43.59L10.3 9.45l-7.72 7.72c-.78.78-.78 2.05 0 2.83L4 21.41c.39.39.9.59 1.41.59.51 0 1.02-.2 1.41-.59l7.78-7.78 2.81-2.81c.8-.78.8-2.07 0-2.86zM5.41 20L4 18.59l7.72-7.72 1.47 1.35L5.41 20z\"/>\n",
       "  </svg>\n",
       "      </button>\n",
       "      \n",
       "  <style>\n",
       "    .colab-df-container {\n",
       "      display:flex;\n",
       "      flex-wrap:wrap;\n",
       "      gap: 12px;\n",
       "    }\n",
       "\n",
       "    .colab-df-convert {\n",
       "      background-color: #E8F0FE;\n",
       "      border: none;\n",
       "      border-radius: 50%;\n",
       "      cursor: pointer;\n",
       "      display: none;\n",
       "      fill: #1967D2;\n",
       "      height: 32px;\n",
       "      padding: 0 0 0 0;\n",
       "      width: 32px;\n",
       "    }\n",
       "\n",
       "    .colab-df-convert:hover {\n",
       "      background-color: #E2EBFA;\n",
       "      box-shadow: 0px 1px 2px rgba(60, 64, 67, 0.3), 0px 1px 3px 1px rgba(60, 64, 67, 0.15);\n",
       "      fill: #174EA6;\n",
       "    }\n",
       "\n",
       "    [theme=dark] .colab-df-convert {\n",
       "      background-color: #3B4455;\n",
       "      fill: #D2E3FC;\n",
       "    }\n",
       "\n",
       "    [theme=dark] .colab-df-convert:hover {\n",
       "      background-color: #434B5C;\n",
       "      box-shadow: 0px 1px 3px 1px rgba(0, 0, 0, 0.15);\n",
       "      filter: drop-shadow(0px 1px 2px rgba(0, 0, 0, 0.3));\n",
       "      fill: #FFFFFF;\n",
       "    }\n",
       "  </style>\n",
       "\n",
       "      <script>\n",
       "        const buttonEl =\n",
       "          document.querySelector('#df-809c0775-22c4-4cd6-8a05-773246229c67 button.colab-df-convert');\n",
       "        buttonEl.style.display =\n",
       "          google.colab.kernel.accessAllowed ? 'block' : 'none';\n",
       "\n",
       "        async function convertToInteractive(key) {\n",
       "          const element = document.querySelector('#df-809c0775-22c4-4cd6-8a05-773246229c67');\n",
       "          const dataTable =\n",
       "            await google.colab.kernel.invokeFunction('convertToInteractive',\n",
       "                                                     [key], {});\n",
       "          if (!dataTable) return;\n",
       "\n",
       "          const docLinkHtml = 'Like what you see? Visit the ' +\n",
       "            '<a target=\"_blank\" href=https://colab.research.google.com/notebooks/data_table.ipynb>data table notebook</a>'\n",
       "            + ' to learn more about interactive tables.';\n",
       "          element.innerHTML = '';\n",
       "          dataTable['output_type'] = 'display_data';\n",
       "          await google.colab.output.renderOutput(dataTable, element);\n",
       "          const docLink = document.createElement('div');\n",
       "          docLink.innerHTML = docLinkHtml;\n",
       "          element.appendChild(docLink);\n",
       "        }\n",
       "      </script>\n",
       "    </div>\n",
       "  </div>\n",
       "  "
      ],
      "text/plain": [
       "                    ID  year  SVM_NDVI_preds  Acres county         CropTyp  \\\n",
       "0  102309_WSDA_SF_2017  2017               1  109.0  Grant           wheat   \n",
       "1  102385_WSDA_SF_2017  2017               1   24.0  Grant           wheat   \n",
       "2  103372_WSDA_SF_2017  2017               2   11.0  Grant  yellow mustard   \n",
       "3  104563_WSDA_SF_2017  2017               1   38.0  Grant          potato   \n",
       "\n",
       "  DataSrc       Irrigtn     LstSrvD  \n",
       "0    wsda  center pivot  2017/07/11  \n",
       "1    wsda  center pivot  2017/07/12  \n",
       "2    wsda  center pivot  2017/10/17  \n",
       "3    wsda          rill  2017/05/16  "
      ]
     },
     "execution_count": 34,
     "metadata": {},
     "output_type": "execute_result"
    }
   ],
   "source": [
    "predictions = pd.merge(predictions, SF_data, on=['ID'], how='left')\n",
    "predictions"
   ]
  },
  {
   "cell_type": "code",
   "execution_count": 104,
   "metadata": {
    "colab": {
     "base_uri": "https://localhost:8080/",
     "height": 291
    },
    "id": "k4JyjzKv43zL",
    "outputId": "d4d1d895-5f97-4d24-e00a-08b2c805c740"
   },
   "outputs": [
    {
     "data": {
      "image/png": "[encoded data removed]",
      "text/plain": [
       "<Figure size 1200x300 with 1 Axes>"
      ]
     },
     "metadata": {},
     "output_type": "display_data"
    }
   ],
   "source": [
    "#  Pick a field\n",
    "an_ID = \"102309_WSDA_SF_2017\"\n",
    "a_field = regular_df[regular_df.ID==an_ID].copy()\n",
    "a_field.sort_values(by='human_system_start_time', axis=0, ascending=True, inplace=True)\n",
    "\n",
    "# Plot\n",
    "fig, ax = plt.subplots(1, 1, figsize=(12, 3),\n",
    "                       sharex='col', sharey='row',\n",
    "                       gridspec_kw={'hspace': 0.2, 'wspace': .05});\n",
    "ax.grid(True);\n",
    "ax.plot(a_field['human_system_start_time'], a_field[VI_idx],\n",
    "        linestyle='-',  linewidth=3.5, color=\"dodgerblue\", alpha=0.8,\n",
    "        label=f\"smooth {VI_idx}\")\n",
    "\n",
    "# Raw data where we started from\n",
    "raw = reduced[reduced.ID==an_ID].copy()\n",
    "raw.sort_values(by='human_system_start_time', axis=0, ascending=True, inplace=True)\n",
    "ax.scatter(raw['human_system_start_time'], raw[VI_idx], s=15, c='#d62728', label=f\"raw {VI_idx}\");\n",
    "# label_ = list(predictions.loc[predictions.ID==an_ID, \"SVM_NDVI_preds\"])[0]\n",
    "# ax.set_title(f\"SVM prediction is {label_}.\")\n",
    "ax.legend(loc=\"lower right\");\n",
    "plt.ylim([-0.5, 1.2]);"
   ]
  },
  {
   "cell_type": "code",
   "execution_count": null,
   "metadata": {
    "colab": {
     "base_uri": "https://localhost:8080/"
    },
    "id": "VKskUUEQ47Oz",
    "outputId": "7f93e3fb-bab2-44d6-fd29-07986382d4e7"
   },
   "outputs": [
    {
     "data": {
      "text/plain": [
       "[1]"
      ]
     },
     "execution_count": 54,
     "metadata": {},
     "output_type": "execute_result"
    }
   ],
   "source": []
  },
  {
   "cell_type": "code",
   "execution_count": null,
   "metadata": {
    "id": "W9a6KElI9BZp"
   },
   "outputs": [],
   "source": []
  }
 ],
 "metadata": {
  "colab": {
   "provenance": []
  },
  "kernelspec": {
   "display_name": "Python 3 (ipykernel)",
   "language": "python",
   "name": "python3"
  },
  "language_info": {
   "codemirror_mode": {
    "name": "ipython",
    "version": 3
   },
   "file_extension": ".py",
   "mimetype": "text/x-python",
   "name": "python",
   "nbconvert_exporter": "python",
   "pygments_lexer": "ipython3",
   "version": "3.9.16"
  },
  "widgets": {
   "application/vnd.jupyter.widget-state+json": {
    "06ffecb2955849e7ad5490a3d2637d62": {
     "model_module": "jupyter-leaflet",
     "model_module_version": "^0.17",
     "model_name": "LeafletDrawControlModel",
     "state": {
      "_model_module": "jupyter-leaflet",
      "_model_module_version": "^0.17",
      "_model_name": "LeafletDrawControlModel",
      "_view_count": null,
      "_view_module": "jupyter-leaflet",
      "_view_module_version": "^0.17",
      "_view_name": "LeafletDrawControlView",
      "circle": {},
      "circlemarker": {},
      "data": [],
      "edit": true,
      "marker": {
       "shapeOptions": {
        "color": "#3388ff"
       }
      },
      "options": [
       "position"
      ],
      "polygon": {
       "shapeOptions": {}
      },
      "polyline": {
       "shapeOptions": {}
      },
      "position": "topleft",
      "rectangle": {
       "shapeOptions": {
        "color": "#3388ff"
       }
      },
      "remove": true
     }
    },
    "0c12b645b86349adad6f53bf63055a62": {
     "model_module": "@jupyter-widgets/base",
     "model_module_version": "1.2.0",
     "model_name": "LayoutModel",
     "state": {
      "_model_module": "@jupyter-widgets/base",
      "_model_module_version": "1.2.0",
      "_model_name": "LayoutModel",
      "_view_count": null,
      "_view_module": "@jupyter-widgets/base",
      "_view_module_version": "1.2.0",
      "_view_name": "LayoutView",
      "align_content": null,
      "align_items": null,
      "align_self": null,
      "border": null,
      "bottom": null,
      "display": null,
      "flex": null,
      "flex_flow": null,
      "grid_area": null,
      "grid_auto_columns": null,
      "grid_auto_flow": null,
      "grid_auto_rows": null,
      "grid_column": null,
      "grid_gap": null,
      "grid_row": null,
      "grid_template_areas": null,
      "grid_template_columns": null,
      "grid_template_rows": null,
      "height": "600px",
      "justify_content": null,
      "justify_items": null,
      "left": null,
      "margin": null,
      "max_height": null,
      "max_width": null,
      "min_height": null,
      "min_width": null,
      "object_fit": null,
      "object_position": null,
      "order": null,
      "overflow": null,
      "overflow_x": null,
      "overflow_y": null,
      "padding": null,
      "right": null,
      "top": null,
      "visibility": null,
      "width": null
     }
    },
    "0ec2e960270d47a88293fa1d4d600241": {
     "model_module": "jupyter-leaflet",
     "model_module_version": "^0.17",
     "model_name": "LeafletMeasureControlModel",
     "state": {
      "_custom_units": {},
      "_model_module": "jupyter-leaflet",
      "_model_module_version": "^0.17",
      "_model_name": "LeafletMeasureControlModel",
      "_view_count": null,
      "_view_module": "jupyter-leaflet",
      "_view_module_version": "^0.17",
      "_view_name": "LeafletMeasureControlView",
      "active_color": "orange",
      "capture_z_index": 10000,
      "completed_color": "#C8F2BE",
      "options": [
       "active_color",
       "capture_z_index",
       "completed_color",
       "popup_options",
       "position",
       "primary_area_unit",
       "primary_length_unit",
       "secondary_area_unit",
       "secondary_length_unit"
      ],
      "popup_options": {
       "autoPanPadding": [
        10,
        10
       ],
       "className": "leaflet-measure-resultpopup"
      },
      "position": "bottomleft",
      "primary_area_unit": "acres",
      "primary_length_unit": "kilometers",
      "secondary_area_unit": null,
      "secondary_length_unit": null
     }
    },
    "1eeb5691b18e41dd8b4419269f53751a": {
     "model_module": "@jupyter-widgets/controls",
     "model_module_version": "1.5.0",
     "model_name": "VBoxModel",
     "state": {
      "_dom_classes": [],
      "_model_module": "@jupyter-widgets/controls",
      "_model_module_version": "1.5.0",
      "_model_name": "VBoxModel",
      "_view_count": null,
      "_view_module": "@jupyter-widgets/controls",
      "_view_module_version": "1.5.0",
      "_view_name": "VBoxView",
      "box_style": "",
      "children": [
       "IPY_MODEL_94476aae672944379a62d6bd4d2ce4b6"
      ],
      "layout": "IPY_MODEL_8051a98f2f8c45efa912fe9dd39df7a9"
     }
    },
    "236be085373c48ba9bbbd9688c046104": {
     "model_module": "jupyter-leaflet",
     "model_module_version": "^0.17",
     "model_name": "LeafletTileLayerModel",
     "state": {
      "_model_module": "jupyter-leaflet",
      "_model_module_version": "^0.17",
      "_model_name": "LeafletTileLayerModel",
      "_view_count": null,
      "_view_module": "jupyter-leaflet",
      "_view_module_version": "^0.17",
      "_view_name": "LeafletTileLayerView",
      "attribution": "Google Earth Engine",
      "base": false,
      "bottom": true,
      "bounds": null,
      "detect_retina": false,
      "loading": false,
      "max_native_zoom": null,
      "max_zoom": 24,
      "min_native_zoom": null,
      "min_zoom": 0,
      "name": "Fields",
      "no_wrap": false,
      "opacity": 1,
      "options": [
       "attribution",
       "bounds",
       "detect_retina",
       "max_native_zoom",
       "max_zoom",
       "min_native_zoom",
       "min_zoom",
       "no_wrap",
       "tile_size",
       "tms",
       "zoom_offset"
      ],
      "pane": "",
      "popup": null,
      "popup_max_height": null,
      "popup_max_width": 300,
      "popup_min_width": 50,
      "show_loading": false,
      "subitems": [],
      "tile_size": 256,
      "tms": false,
      "url": "https://earthengine.googleapis.com/v1/projects/earthengine-legacy/maps/f324dad775e9f75458503c68a5a85d62-5377c6da369ba25238cc9d354ed1960a/tiles/{z}/{x}/{y}",
      "visible": true,
      "zoom_offset": 0
     }
    },
    "26c5e5e07f1d49aba73e495c78c81f3b": {
     "model_module": "jupyter-leaflet",
     "model_module_version": "^0.17",
     "model_name": "LeafletTileLayerModel",
     "state": {
      "_model_module": "jupyter-leaflet",
      "_model_module_version": "^0.17",
      "_model_name": "LeafletTileLayerModel",
      "_view_count": null,
      "_view_module": "jupyter-leaflet",
      "_view_module_version": "^0.17",
      "_view_name": "LeafletTileLayerView",
      "attribution": "Google Earth Engine",
      "base": false,
      "bottom": true,
      "bounds": null,
      "detect_retina": false,
      "loading": false,
      "max_native_zoom": null,
      "max_zoom": 24,
      "min_native_zoom": null,
      "min_zoom": 0,
      "name": "Western Half",
      "no_wrap": false,
      "opacity": 1,
      "options": [
       "attribution",
       "bounds",
       "detect_retina",
       "max_native_zoom",
       "max_zoom",
       "min_native_zoom",
       "min_zoom",
       "no_wrap",
       "tile_size",
       "tms",
       "zoom_offset"
      ],
      "pane": "",
      "popup": null,
      "popup_max_height": null,
      "popup_max_width": 300,
      "popup_min_width": 50,
      "show_loading": false,
      "subitems": [],
      "tile_size": 256,
      "tms": false,
      "url": "https://earthengine.googleapis.com/v1/projects/earthengine-legacy/maps/227fe956466469838a43e967668972e6-4f786f28c70cd62168d60600f90277e2/tiles/{z}/{x}/{y}",
      "visible": true,
      "zoom_offset": 0
     }
    },
    "3a84bfb94d2d470ea627459d062aeebc": {
     "model_module": "jupyter-leaflet",
     "model_module_version": "^0.17",
     "model_name": "LeafletMapStyleModel",
     "state": {
      "_model_module": "jupyter-leaflet",
      "_model_module_version": "^0.17",
      "_model_name": "LeafletMapStyleModel",
      "_view_count": null,
      "_view_module": "@jupyter-widgets/base",
      "_view_module_version": "1.2.0",
      "_view_name": "StyleView",
      "cursor": "move"
     }
    },
    "4311bbb9d67b4d678bc0ad5cff32a0dc": {
     "model_module": "jupyter-leaflet",
     "model_module_version": "^0.17",
     "model_name": "LeafletTileLayerModel",
     "state": {
      "_model_module": "jupyter-leaflet",
      "_model_module_version": "^0.17",
      "_model_name": "LeafletTileLayerModel",
      "_view_count": null,
      "_view_module": "jupyter-leaflet",
      "_view_module_version": "^0.17",
      "_view_name": "LeafletTileLayerView",
      "attribution": "Google",
      "base": false,
      "bottom": true,
      "bounds": null,
      "detect_retina": false,
      "loading": false,
      "max_native_zoom": null,
      "max_zoom": 24,
      "min_native_zoom": null,
      "min_zoom": 0,
      "name": "Google Maps",
      "no_wrap": false,
      "opacity": 1,
      "options": [
       "attribution",
       "bounds",
       "detect_retina",
       "max_native_zoom",
       "max_zoom",
       "min_native_zoom",
       "min_zoom",
       "no_wrap",
       "tile_size",
       "tms",
       "zoom_offset"
      ],
      "pane": "",
      "popup": null,
      "popup_max_height": null,
      "popup_max_width": 300,
      "popup_min_width": 50,
      "show_loading": false,
      "subitems": [],
      "tile_size": 256,
      "tms": false,
      "url": "https://mt1.google.com/vt/lyrs=m&x={x}&y={y}&z={z}",
      "visible": true,
      "zoom_offset": 0
     }
    },
    "47c5038abab64a36b5db4c3cedd099b4": {
     "model_module": "@jupyter-widgets/base",
     "model_module_version": "1.2.0",
     "model_name": "LayoutModel",
     "state": {
      "_model_module": "@jupyter-widgets/base",
      "_model_module_version": "1.2.0",
      "_model_name": "LayoutModel",
      "_view_count": null,
      "_view_module": "@jupyter-widgets/base",
      "_view_module_version": "1.2.0",
      "_view_name": "LayoutView",
      "align_content": null,
      "align_items": null,
      "align_self": null,
      "border": null,
      "bottom": null,
      "display": null,
      "flex": null,
      "flex_flow": null,
      "grid_area": null,
      "grid_auto_columns": null,
      "grid_auto_flow": null,
      "grid_auto_rows": null,
      "grid_column": null,
      "grid_gap": null,
      "grid_row": null,
      "grid_template_areas": null,
      "grid_template_columns": null,
      "grid_template_rows": null,
      "height": "28px",
      "justify_content": null,
      "justify_items": null,
      "left": null,
      "margin": null,
      "max_height": null,
      "max_width": null,
      "min_height": null,
      "min_width": null,
      "object_fit": null,
      "object_position": null,
      "order": null,
      "overflow": null,
      "overflow_x": null,
      "overflow_y": null,
      "padding": "0px 0px 0px 4px",
      "right": null,
      "top": null,
      "visibility": null,
      "width": "28px"
     }
    },
    "4c0781f50960483fa31d9ee974f1430d": {
     "model_module": "@jupyter-widgets/controls",
     "model_module_version": "1.5.0",
     "model_name": "DescriptionStyleModel",
     "state": {
      "_model_module": "@jupyter-widgets/controls",
      "_model_module_version": "1.5.0",
      "_model_name": "DescriptionStyleModel",
      "_view_count": null,
      "_view_module": "@jupyter-widgets/base",
      "_view_module_version": "1.2.0",
      "_view_name": "StyleView",
      "description_width": ""
     }
    },
    "5d41b53701734f2e950139b5fb2aa084": {
     "model_module": "jupyter-leaflet",
     "model_module_version": "^0.17",
     "model_name": "LeafletFullScreenControlModel",
     "state": {
      "_model_module": "jupyter-leaflet",
      "_model_module_version": "^0.17",
      "_model_name": "LeafletFullScreenControlModel",
      "_view_count": null,
      "_view_module": "jupyter-leaflet",
      "_view_module_version": "^0.17",
      "_view_name": "LeafletFullScreenControlView",
      "options": [
       "position"
      ],
      "position": "topleft"
     }
    },
    "600ac7ab6e3647e6991f854de0d927b0": {
     "model_module": "jupyter-leaflet",
     "model_module_version": "^0.17",
     "model_name": "LeafletMapStyleModel",
     "state": {
      "_model_module": "jupyter-leaflet",
      "_model_module_version": "^0.17",
      "_model_name": "LeafletMapStyleModel",
      "_view_count": null,
      "_view_module": "@jupyter-widgets/base",
      "_view_module_version": "1.2.0",
      "_view_name": "StyleView",
      "cursor": "grab"
     }
    },
    "61d98ca7dc2f41789f8b6f07c9c09f9c": {
     "model_module": "jupyter-leaflet",
     "model_module_version": "^0.17",
     "model_name": "LeafletMapStyleModel",
     "state": {
      "_model_module": "jupyter-leaflet",
      "_model_module_version": "^0.17",
      "_model_name": "LeafletMapStyleModel",
      "_view_count": null,
      "_view_module": "@jupyter-widgets/base",
      "_view_module_version": "1.2.0",
      "_view_name": "StyleView",
      "cursor": "grab"
     }
    },
    "6f1ab865db6d442f93b84cf6d1bfdd22": {
     "model_module": "jupyter-leaflet",
     "model_module_version": "^0.17",
     "model_name": "LeafletZoomControlModel",
     "state": {
      "_model_module": "jupyter-leaflet",
      "_model_module_version": "^0.17",
      "_model_name": "LeafletZoomControlModel",
      "_view_count": null,
      "_view_module": "jupyter-leaflet",
      "_view_module_version": "^0.17",
      "_view_name": "LeafletZoomControlView",
      "options": [
       "position",
       "zoom_in_text",
       "zoom_in_title",
       "zoom_out_text",
       "zoom_out_title"
      ],
      "position": "topleft",
      "zoom_in_text": "+",
      "zoom_in_title": "Zoom in",
      "zoom_out_text": "-",
      "zoom_out_title": "Zoom out"
     }
    },
    "7376c9d45ab54ceba779b2878d31d2b0": {
     "model_module": "jupyter-leaflet",
     "model_module_version": "^0.17",
     "model_name": "LeafletAttributionControlModel",
     "state": {
      "_model_module": "jupyter-leaflet",
      "_model_module_version": "^0.17",
      "_model_name": "LeafletAttributionControlModel",
      "_view_count": null,
      "_view_module": "jupyter-leaflet",
      "_view_module_version": "^0.17",
      "_view_name": "LeafletAttributionControlView",
      "options": [
       "position",
       "prefix"
      ],
      "position": "bottomright",
      "prefix": "ipyleaflet"
     }
    },
    "8051a98f2f8c45efa912fe9dd39df7a9": {
     "model_module": "@jupyter-widgets/base",
     "model_module_version": "1.2.0",
     "model_name": "LayoutModel",
     "state": {
      "_model_module": "@jupyter-widgets/base",
      "_model_module_version": "1.2.0",
      "_model_name": "LayoutModel",
      "_view_count": null,
      "_view_module": "@jupyter-widgets/base",
      "_view_module_version": "1.2.0",
      "_view_name": "LayoutView",
      "align_content": null,
      "align_items": null,
      "align_self": null,
      "border": null,
      "bottom": null,
      "display": null,
      "flex": null,
      "flex_flow": null,
      "grid_area": null,
      "grid_auto_columns": null,
      "grid_auto_flow": null,
      "grid_auto_rows": null,
      "grid_column": null,
      "grid_gap": null,
      "grid_row": null,
      "grid_template_areas": null,
      "grid_template_columns": null,
      "grid_template_rows": null,
      "height": null,
      "justify_content": null,
      "justify_items": null,
      "left": null,
      "margin": null,
      "max_height": null,
      "max_width": null,
      "min_height": null,
      "min_width": null,
      "object_fit": null,
      "object_position": null,
      "order": null,
      "overflow": null,
      "overflow_x": null,
      "overflow_y": null,
      "padding": null,
      "right": null,
      "top": null,
      "visibility": null,
      "width": null
     }
    },
    "90b9fb8106b64657ab2464d6ab05014d": {
     "model_module": "jupyter-leaflet",
     "model_module_version": "^0.17",
     "model_name": "LeafletWidgetControlModel",
     "state": {
      "_model_module": "jupyter-leaflet",
      "_model_module_version": "^0.17",
      "_model_name": "LeafletWidgetControlModel",
      "_view_count": null,
      "_view_module": "jupyter-leaflet",
      "_view_module_version": "^0.17",
      "_view_name": "LeafletWidgetControlView",
      "max_height": null,
      "max_width": null,
      "min_height": null,
      "min_width": null,
      "options": [
       "position",
       "transparent_bg"
      ],
      "position": "topleft",
      "transparent_bg": false,
      "widget": "IPY_MODEL_c3d1b143a3394f71b84f554015ea02fa"
     }
    },
    "94476aae672944379a62d6bd4d2ce4b6": {
     "model_module": "@jupyter-widgets/controls",
     "model_module_version": "1.5.0",
     "model_name": "ToggleButtonModel",
     "state": {
      "_dom_classes": [],
      "_model_module": "@jupyter-widgets/controls",
      "_model_module_version": "1.5.0",
      "_model_name": "ToggleButtonModel",
      "_view_count": null,
      "_view_module": "@jupyter-widgets/controls",
      "_view_module_version": "1.5.0",
      "_view_name": "ToggleButtonView",
      "button_style": "",
      "description": "",
      "description_tooltip": null,
      "disabled": false,
      "icon": "wrench",
      "layout": "IPY_MODEL_eefe308b4a7441d2b53e743843f7bcaf",
      "style": "IPY_MODEL_add3205afb754a00a18e4428351c1e60",
      "tooltip": "Toolbar",
      "value": false
     }
    },
    "a04687c0432a4a428f2ba69141ae63c2": {
     "model_module": "jupyter-leaflet",
     "model_module_version": "^0.17",
     "model_name": "LeafletScaleControlModel",
     "state": {
      "_model_module": "jupyter-leaflet",
      "_model_module_version": "^0.17",
      "_model_name": "LeafletScaleControlModel",
      "_view_count": null,
      "_view_module": "jupyter-leaflet",
      "_view_module_version": "^0.17",
      "_view_name": "LeafletScaleControlView",
      "imperial": true,
      "max_width": 100,
      "metric": true,
      "options": [
       "imperial",
       "max_width",
       "metric",
       "position",
       "update_when_idle"
      ],
      "position": "bottomleft",
      "update_when_idle": false
     }
    },
    "a53e2a5d9b624ae7b5947b5ba2e4937a": {
     "model_module": "@jupyter-widgets/controls",
     "model_module_version": "1.5.0",
     "model_name": "ToggleButtonModel",
     "state": {
      "_dom_classes": [],
      "_model_module": "@jupyter-widgets/controls",
      "_model_module_version": "1.5.0",
      "_model_name": "ToggleButtonModel",
      "_view_count": null,
      "_view_module": "@jupyter-widgets/controls",
      "_view_module_version": "1.5.0",
      "_view_name": "ToggleButtonView",
      "button_style": "",
      "description": "",
      "description_tooltip": null,
      "disabled": false,
      "icon": "globe",
      "layout": "IPY_MODEL_47c5038abab64a36b5db4c3cedd099b4",
      "style": "IPY_MODEL_4c0781f50960483fa31d9ee974f1430d",
      "tooltip": "Search location/data",
      "value": false
     }
    },
    "add3205afb754a00a18e4428351c1e60": {
     "model_module": "@jupyter-widgets/controls",
     "model_module_version": "1.5.0",
     "model_name": "DescriptionStyleModel",
     "state": {
      "_model_module": "@jupyter-widgets/controls",
      "_model_module_version": "1.5.0",
      "_model_name": "DescriptionStyleModel",
      "_view_count": null,
      "_view_module": "@jupyter-widgets/base",
      "_view_module_version": "1.2.0",
      "_view_name": "StyleView",
      "description_width": ""
     }
    },
    "bb09571b364c402aa1b5834e954d8fd2": {
     "model_module": "jupyter-leaflet",
     "model_module_version": "^0.17",
     "model_name": "LeafletTileLayerModel",
     "state": {
      "_model_module": "jupyter-leaflet",
      "_model_module_version": "^0.17",
      "_model_name": "LeafletTileLayerModel",
      "_view_count": null,
      "_view_module": "jupyter-leaflet",
      "_view_module_version": "^0.17",
      "_view_name": "LeafletTileLayerView",
      "attribution": "Google Earth Engine",
      "base": false,
      "bottom": true,
      "bounds": null,
      "detect_retina": false,
      "loading": false,
      "max_native_zoom": null,
      "max_zoom": 24,
      "min_native_zoom": null,
      "min_zoom": 0,
      "name": "Eastern Half",
      "no_wrap": false,
      "opacity": 1,
      "options": [
       "attribution",
       "bounds",
       "detect_retina",
       "max_native_zoom",
       "max_zoom",
       "min_native_zoom",
       "min_zoom",
       "no_wrap",
       "tile_size",
       "tms",
       "zoom_offset"
      ],
      "pane": "",
      "popup": null,
      "popup_max_height": null,
      "popup_max_width": 300,
      "popup_min_width": 50,
      "show_loading": false,
      "subitems": [],
      "tile_size": 256,
      "tms": false,
      "url": "https://earthengine.googleapis.com/v1/projects/earthengine-legacy/maps/522ad50b983cb2cc36922340695c447f-79a0a0632b18e19609d54f0ba7fae670/tiles/{z}/{x}/{y}",
      "visible": true,
      "zoom_offset": 0
     }
    },
    "bba0f1ebc08c4244857aa91f351a172b": {
     "model_module": "@jupyter-widgets/base",
     "model_module_version": "1.2.0",
     "model_name": "LayoutModel",
     "state": {
      "_model_module": "@jupyter-widgets/base",
      "_model_module_version": "1.2.0",
      "_model_name": "LayoutModel",
      "_view_count": null,
      "_view_module": "@jupyter-widgets/base",
      "_view_module_version": "1.2.0",
      "_view_name": "LayoutView",
      "align_content": null,
      "align_items": null,
      "align_self": null,
      "border": null,
      "bottom": null,
      "display": null,
      "flex": null,
      "flex_flow": null,
      "grid_area": null,
      "grid_auto_columns": null,
      "grid_auto_flow": null,
      "grid_auto_rows": null,
      "grid_column": null,
      "grid_gap": null,
      "grid_row": null,
      "grid_template_areas": null,
      "grid_template_columns": null,
      "grid_template_rows": null,
      "height": null,
      "justify_content": null,
      "justify_items": null,
      "left": null,
      "margin": null,
      "max_height": null,
      "max_width": null,
      "min_height": null,
      "min_width": null,
      "object_fit": null,
      "object_position": null,
      "order": null,
      "overflow": null,
      "overflow_x": null,
      "overflow_y": null,
      "padding": null,
      "right": null,
      "top": null,
      "visibility": null,
      "width": null
     }
    },
    "c3d1b143a3394f71b84f554015ea02fa": {
     "model_module": "@jupyter-widgets/controls",
     "model_module_version": "1.5.0",
     "model_name": "HBoxModel",
     "state": {
      "_dom_classes": [],
      "_model_module": "@jupyter-widgets/controls",
      "_model_module_version": "1.5.0",
      "_model_name": "HBoxModel",
      "_view_count": null,
      "_view_module": "@jupyter-widgets/controls",
      "_view_module_version": "1.5.0",
      "_view_name": "HBoxView",
      "box_style": "",
      "children": [
       "IPY_MODEL_a53e2a5d9b624ae7b5947b5ba2e4937a"
      ],
      "layout": "IPY_MODEL_bba0f1ebc08c4244857aa91f351a172b"
     }
    },
    "c7e70fcc940644ae9a47759abe0089fe": {
     "model_module": "jupyter-leaflet",
     "model_module_version": "^0.17",
     "model_name": "LeafletMapModel",
     "state": {
      "_dom_classes": [],
      "_model_module": "jupyter-leaflet",
      "_model_module_version": "^0.17",
      "_model_name": "LeafletMapModel",
      "_view_count": null,
      "_view_module": "jupyter-leaflet",
      "_view_module_version": "^0.17",
      "_view_name": "LeafletMapView",
      "bottom": 6170,
      "bounce_at_zoom_limits": true,
      "box_zoom": true,
      "center": [
       45.367584368849805,
       -111.65372151464474
      ],
      "close_popup_on_click": true,
      "controls": [
       "IPY_MODEL_90b9fb8106b64657ab2464d6ab05014d",
       "IPY_MODEL_6f1ab865db6d442f93b84cf6d1bfdd22",
       "IPY_MODEL_5d41b53701734f2e950139b5fb2aa084",
       "IPY_MODEL_06ffecb2955849e7ad5490a3d2637d62",
       "IPY_MODEL_a04687c0432a4a428f2ba69141ae63c2",
       "IPY_MODEL_0ec2e960270d47a88293fa1d4d600241",
       "IPY_MODEL_efae7ceb4d524c3cb385b1a910dd0512",
       "IPY_MODEL_7376c9d45ab54ceba779b2878d31d2b0"
      ],
      "crs": {
       "custom": false,
       "name": "EPSG3857"
      },
      "default_style": "IPY_MODEL_61d98ca7dc2f41789f8b6f07c9c09f9c",
      "double_click_zoom": true,
      "dragging": true,
      "dragging_style": "IPY_MODEL_3a84bfb94d2d470ea627459d062aeebc",
      "east": -90.81298828125001,
      "fullscreen": false,
      "inertia": true,
      "inertia_deceleration": 3000,
      "inertia_max_speed": 1500,
      "interpolation": "bilinear",
      "keyboard": true,
      "keyboard_pan_offset": 80,
      "keyboard_zoom_offset": 1,
      "layers": [
       "IPY_MODEL_ddc3efa9b4ad47ef8569728a5779af6c",
       "IPY_MODEL_4311bbb9d67b4d678bc0ad5cff32a0dc",
       "IPY_MODEL_26c5e5e07f1d49aba73e495c78c81f3b",
       "IPY_MODEL_bb09571b364c402aa1b5834e954d8fd2",
       "IPY_MODEL_236be085373c48ba9bbbd9688c046104"
      ],
      "layout": "IPY_MODEL_0c12b645b86349adad6f53bf63055a62",
      "left": 2162,
      "max_zoom": 24,
      "min_zoom": null,
      "modisdate": "2023-08-06",
      "north": 49.809631563563094,
      "options": [
       "bounce_at_zoom_limits",
       "box_zoom",
       "center",
       "close_popup_on_click",
       "double_click_zoom",
       "dragging",
       "fullscreen",
       "inertia",
       "inertia_deceleration",
       "inertia_max_speed",
       "interpolation",
       "keyboard",
       "keyboard_pan_offset",
       "keyboard_zoom_offset",
       "max_zoom",
       "min_zoom",
       "prefer_canvas",
       "scroll_wheel_zoom",
       "tap",
       "tap_tolerance",
       "touch_zoom",
       "world_copy_jump",
       "zoom",
       "zoom_animation_threshold",
       "zoom_delta",
       "zoom_snap"
      ],
      "panes": {},
      "prefer_canvas": false,
      "right": 4059,
      "scroll_wheel_zoom": true,
      "south": 40.54720023441049,
      "style": "IPY_MODEL_61d98ca7dc2f41789f8b6f07c9c09f9c",
      "tap": true,
      "tap_tolerance": 15,
      "top": 5570,
      "touch_zoom": true,
      "west": -132.49511718750003,
      "window_url": "https://rxvtl562pzq-496ff2e9c6d22116-0-colab.googleusercontent.com/outputframe.html?vrz=colab-20230804-060128-RC00_553764177",
      "world_copy_jump": false,
      "zoom": 6,
      "zoom_animation_threshold": 4,
      "zoom_delta": 1,
      "zoom_snap": 1
     }
    },
    "ddc3efa9b4ad47ef8569728a5779af6c": {
     "model_module": "jupyter-leaflet",
     "model_module_version": "^0.17",
     "model_name": "LeafletTileLayerModel",
     "state": {
      "_model_module": "jupyter-leaflet",
      "_model_module_version": "^0.17",
      "_model_name": "LeafletTileLayerModel",
      "_view_count": null,
      "_view_module": "jupyter-leaflet",
      "_view_module_version": "^0.17",
      "_view_name": "LeafletTileLayerView",
      "attribution": "&copy; <a href=\"https://www.openstreetmap.org/copyright\">OpenStreetMap</a> contributors",
      "base": true,
      "bottom": true,
      "bounds": null,
      "detect_retina": false,
      "loading": false,
      "max_native_zoom": null,
      "max_zoom": 19,
      "min_native_zoom": null,
      "min_zoom": 1,
      "name": "OpenStreetMap.Mapnik",
      "no_wrap": false,
      "opacity": 1,
      "options": [
       "attribution",
       "bounds",
       "detect_retina",
       "max_native_zoom",
       "max_zoom",
       "min_native_zoom",
       "min_zoom",
       "no_wrap",
       "tile_size",
       "tms",
       "zoom_offset"
      ],
      "pane": "",
      "popup": null,
      "popup_max_height": null,
      "popup_max_width": 300,
      "popup_min_width": 50,
      "show_loading": false,
      "subitems": [],
      "tile_size": 256,
      "tms": false,
      "url": "https://tile.openstreetmap.org/{z}/{x}/{y}.png",
      "visible": true,
      "zoom_offset": 0
     }
    },
    "eefe308b4a7441d2b53e743843f7bcaf": {
     "model_module": "@jupyter-widgets/base",
     "model_module_version": "1.2.0",
     "model_name": "LayoutModel",
     "state": {
      "_model_module": "@jupyter-widgets/base",
      "_model_module_version": "1.2.0",
      "_model_name": "LayoutModel",
      "_view_count": null,
      "_view_module": "@jupyter-widgets/base",
      "_view_module_version": "1.2.0",
      "_view_name": "LayoutView",
      "align_content": null,
      "align_items": null,
      "align_self": null,
      "border": null,
      "bottom": null,
      "display": null,
      "flex": null,
      "flex_flow": null,
      "grid_area": null,
      "grid_auto_columns": null,
      "grid_auto_flow": null,
      "grid_auto_rows": null,
      "grid_column": null,
      "grid_gap": null,
      "grid_row": null,
      "grid_template_areas": null,
      "grid_template_columns": null,
      "grid_template_rows": null,
      "height": "28px",
      "justify_content": null,
      "justify_items": null,
      "left": null,
      "margin": null,
      "max_height": null,
      "max_width": null,
      "min_height": null,
      "min_width": null,
      "object_fit": null,
      "object_position": null,
      "order": null,
      "overflow": null,
      "overflow_x": null,
      "overflow_y": null,
      "padding": "0px 0px 0px 4px",
      "right": null,
      "top": null,
      "visibility": null,
      "width": "28px"
     }
    },
    "efae7ceb4d524c3cb385b1a910dd0512": {
     "model_module": "jupyter-leaflet",
     "model_module_version": "^0.17",
     "model_name": "LeafletWidgetControlModel",
     "state": {
      "_model_module": "jupyter-leaflet",
      "_model_module_version": "^0.17",
      "_model_name": "LeafletWidgetControlModel",
      "_view_count": null,
      "_view_module": "jupyter-leaflet",
      "_view_module_version": "^0.17",
      "_view_name": "LeafletWidgetControlView",
      "max_height": null,
      "max_width": null,
      "min_height": null,
      "min_width": null,
      "options": [
       "position",
       "transparent_bg"
      ],
      "position": "topright",
      "transparent_bg": false,
      "widget": "IPY_MODEL_1eeb5691b18e41dd8b4419269f53751a"
     }
    }
   }
  }
 },
 "nbformat": 4,
 "nbformat_minor": 1
}
